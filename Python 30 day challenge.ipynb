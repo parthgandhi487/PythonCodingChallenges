{
 "cells": [
  {
   "cell_type": "code",
   "execution_count": 12,
   "metadata": {},
   "outputs": [
    {
     "name": "stdout",
     "output_type": "stream",
     "text": [
      "5\n",
      "2\n",
      "6\n",
      "1.5\n",
      "9\n",
      "1\n",
      "1\n"
     ]
    }
   ],
   "source": [
    "# Day 1\n",
    "print(2 + 3)   # addition(+)\n",
    "print(3 - 1)   # subtraction(-)\n",
    "print(2 * 3)   # multiplication(*)\n",
    "print(3 / 2)   # division(/)\n",
    "print(3 ** 2)  # exponential(**)\n",
    "print(3 % 2)   # modulus(%)\n",
    "print(3 // 2)  # Floor division operator(//)"
   ]
  },
  {
   "cell_type": "code",
   "execution_count": 13,
   "metadata": {},
   "outputs": [
    {
     "name": "stdout",
     "output_type": "stream",
     "text": [
      "<class 'int'>\n",
      "<class 'float'>\n",
      "<class 'complex'>\n",
      "<class 'str'>\n",
      "<class 'list'>\n",
      "<class 'dict'>\n",
      "<class 'set'>\n"
     ]
    }
   ],
   "source": [
    "# Checking data types\n",
    "\n",
    "print(type(10))                  # Int\n",
    "print(type(3.14))                # Float\n",
    "print(type(1 + 3j))              # Complex\n",
    "print(type('Asabeneh'))          # String\n",
    "print(type([1, 2, 3]))           # List\n",
    "print(type({'name':'Asabeneh'})) # Dictionary\n",
    "print(type({9.8, 3.14, 2.7}))    # Tuple"
   ]
  },
  {
   "cell_type": "code",
   "execution_count": 14,
   "metadata": {},
   "outputs": [],
   "source": [
    "# Day2 Variables\n",
    "# Variables in Python\n",
    "\n",
    "first_name = 'Asabeneh'\n",
    "last_name = 'Yetayeh'\n",
    "country = 'Finland'\n",
    "city = 'Helsinki'\n",
    "age = 250\n",
    "is_married = True\n",
    "skills = ['HTML', 'CSS', 'JS', 'React', 'Python']\n",
    "person_info = {\n",
    "    'firstname':'Asabeneh', \n",
    "    'lastname':'Yetayeh', \n",
    "    'country':'Finland',\n",
    "    'city':'Helsinki'\n",
    "    }"
   ]
  },
  {
   "cell_type": "code",
   "execution_count": 15,
   "metadata": {},
   "outputs": [
    {
     "name": "stdout",
     "output_type": "stream",
     "text": [
      "First name: Asabeneh\n",
      "First name length: 8\n",
      "Last name:  Yetayeh\n",
      "Last name length:  7\n",
      "Country:  Finland\n",
      "City:  Helsinki\n",
      "Age:  250\n",
      "Married:  True\n",
      "Skills:  ['HTML', 'CSS', 'JS', 'React', 'Python']\n",
      "Person information:  {'firstname': 'Asabeneh', 'lastname': 'Yetayeh', 'country': 'Finland', 'city': 'Helsinki'}\n"
     ]
    }
   ],
   "source": [
    "# Printing the values stored in the variables\n",
    "\n",
    "print('First name:', first_name)\n",
    "print('First name length:', len(first_name))\n",
    "print('Last name: ', last_name)\n",
    "print('Last name length: ', len(last_name))\n",
    "print('Country: ', country)\n",
    "print('City: ', city)\n",
    "print('Age: ', age)\n",
    "print('Married: ', is_married)\n",
    "print('Skills: ', skills)\n",
    "print('Person information: ', person_info)"
   ]
  },
  {
   "cell_type": "code",
   "execution_count": 16,
   "metadata": {},
   "outputs": [
    {
     "name": "stdout",
     "output_type": "stream",
     "text": [
      "Asabeneh Yetayeh Helsink 250 True\n",
      "First name: Asabeneh\n",
      "Last name:  Yetayeh\n",
      "Country:  Helsink\n",
      "Age:  250\n",
      "Married:  True\n"
     ]
    }
   ],
   "source": [
    "# Declaring multiple variables in one line\n",
    "\n",
    "first_name, last_name, country, age, is_married = 'Asabeneh', 'Yetayeh', 'Helsink', 250, True\n",
    "\n",
    "print(first_name, last_name, country, age, is_married)\n",
    "print('First name:', first_name)\n",
    "print('Last name: ', last_name)\n",
    "print('Country: ', country)\n",
    "print('Age: ', age)\n",
    "print('Married: ', is_married)"
   ]
  },
  {
   "cell_type": "code",
   "execution_count": 17,
   "metadata": {},
   "outputs": [
    {
     "name": "stdout",
     "output_type": "stream",
     "text": [
      "Addition:  3\n",
      "Subtraction:  1\n",
      "Multiplication:  6\n",
      "Division:  2.0\n",
      "Division:  3.0\n",
      "Division:  3.5\n",
      "Division without the remainder:  3\n",
      "Modulus:  1\n",
      "Division without the remainder:  2\n",
      "Exponential:  9\n"
     ]
    }
   ],
   "source": [
    "#Day 3 operators\n",
    "# Arithmetic Operations in Python\n",
    "# Integers\n",
    "\n",
    "print('Addition: ', 1 + 2)\n",
    "print('Subtraction: ', 2 - 1)\n",
    "print('Multiplication: ', 2 * 3)\n",
    "print ('Division: ', 4 / 2)                         # Division in python gives floating number\n",
    "print('Division: ', 6 / 2)\n",
    "print('Division: ', 7 / 2)\n",
    "print('Division without the remainder: ', 7 // 2)   # gives without the floating number or without the remaining\n",
    "print('Modulus: ', 3 % 2)                           # Gives the remainder\n",
    "print ('Division without the remainder: ',7 // 3)\n",
    "print('Exponential: ', 3 ** 2)                     # it means 3 * 3"
   ]
  },
  {
   "cell_type": "code",
   "execution_count": 18,
   "metadata": {},
   "outputs": [
    {
     "name": "stdout",
     "output_type": "stream",
     "text": [
      "Floating Number,PI 3.14\n",
      "Floating Number, gravity 9.81\n"
     ]
    }
   ],
   "source": [
    "#floating point numbers\n",
    "print('Floating Number,PI', 3.14)\n",
    "print('Floating Number, gravity', 9.81)"
   ]
  },
  {
   "cell_type": "code",
   "execution_count": 19,
   "metadata": {},
   "outputs": [
    {
     "name": "stdout",
     "output_type": "stream",
     "text": [
      "Complex number:  (1+1j)\n",
      "Multiplying complex number:  (2+0j)\n"
     ]
    }
   ],
   "source": [
    "# Complex numbers\n",
    "print('Complex number: ', 1+1j)\n",
    "print('Multiplying complex number: ',(1+1j) * (1-1j))\n"
   ]
  },
  {
   "cell_type": "code",
   "execution_count": 20,
   "metadata": {},
   "outputs": [],
   "source": [
    "# Declaring the variable at the top first\n",
    "\n",
    "a = 3 # a is a variable name and 3 is an integer data type\n",
    "b = 2 # b is a variable name and 3 is an integer data type"
   ]
  },
  {
   "cell_type": "code",
   "execution_count": 23,
   "metadata": {},
   "outputs": [],
   "source": [
    "# Arithmetic operations and assigning the result to a variable\n",
    "sum = a + b\n",
    "diff = a - b\n",
    "product = a * b\n",
    "division = a / b\n",
    "remainder = a % b\n",
    "floor_division = a // b\n",
    "exponential = a ** b"
   ]
  },
  {
   "cell_type": "code",
   "execution_count": 24,
   "metadata": {},
   "outputs": [
    {
     "name": "stdout",
     "output_type": "stream",
     "text": [
      "5\n",
      "a + b =  5\n",
      "a - b =  1\n",
      "a * b =  6\n",
      "a / b =  1.5\n",
      "a % b =  1\n",
      "a // b =  1\n",
      "a ** b =  9\n"
     ]
    }
   ],
   "source": [
    "# I should have used sum instead of total but sum is a built-in function try to avoid overriding builtin functions\n",
    "print(total) # if you don't label your print with some string, you never know from where is  the result is coming\n",
    "print('a + b = ', sum)\n",
    "print('a - b = ', diff)\n",
    "print('a * b = ', product)\n",
    "print('a / b = ', division)\n",
    "print('a % b = ', remainder)\n",
    "print('a // b = ', floor_division)\n",
    "print('a ** b = ', exponential)"
   ]
  },
  {
   "cell_type": "code",
   "execution_count": 25,
   "metadata": {},
   "outputs": [],
   "source": [
    "# Declaring values and organizing them together\n",
    "num_one = 3\n",
    "num_two = 4\n"
   ]
  },
  {
   "cell_type": "code",
   "execution_count": 27,
   "metadata": {},
   "outputs": [
    {
     "name": "stdout",
     "output_type": "stream",
     "text": [
      "total:  7\n",
      "difference:  1\n",
      "product:  12\n",
      "division:  1.0\n",
      "remainder:  1\n"
     ]
    }
   ],
   "source": [
    "# Arithmetic operations\n",
    "total = num_one + num_two\n",
    "diff = num_two - num_one\n",
    "product = num_one * num_two\n",
    "div = num_two / num_two\n",
    "remainder = num_two % num_one\n",
    "\n",
    "\n",
    "# Printing values with label\n",
    "print('total: ', total)\n",
    "print('difference: ', diff)\n",
    "print('product: ', product)\n",
    "print('division: ', div)\n",
    "print('remainder: ', remainder)\n",
    "\n"
   ]
  },
  {
   "cell_type": "code",
   "execution_count": 30,
   "metadata": {},
   "outputs": [
    {
     "name": "stdout",
     "output_type": "stream",
     "text": [
      "314.0\n",
      "Area of a circle: 314.0\n"
     ]
    }
   ],
   "source": [
    "# calculating area of a circle\n",
    "radius=10\n",
    "pi=3.14\n",
    "area_of_circle=pi*10**2\n",
    "print(area_of_circle)\n"
   ]
  },
  {
   "cell_type": "code",
   "execution_count": 31,
   "metadata": {},
   "outputs": [
    {
     "name": "stdout",
     "output_type": "stream",
     "text": [
      "200\n"
     ]
    }
   ],
   "source": [
    "# area of a rectangle\n",
    "\n",
    "length=10\n",
    "width=20\n",
    "area_of_rect=length*width\n",
    "print(area_of_rect)"
   ]
  },
  {
   "cell_type": "code",
   "execution_count": 33,
   "metadata": {},
   "outputs": [
    {
     "name": "stdout",
     "output_type": "stream",
     "text": [
      "675.75\n"
     ]
    }
   ],
   "source": [
    "#calculate weight of an object\n",
    "\n",
    "mass=75\n",
    "gravity=9.01\n",
    "weight=mass*gravity\n",
    "print(weight)"
   ]
  },
  {
   "cell_type": "code",
   "execution_count": 34,
   "metadata": {},
   "outputs": [
    {
     "name": "stdout",
     "output_type": "stream",
     "text": [
      "True\n",
      "True\n",
      "False\n",
      "True\n",
      "True\n",
      "False\n",
      "True\n",
      "False\n",
      "True\n",
      "True\n",
      "False\n",
      "True\n",
      "True\n",
      "False\n",
      "True == True:  True\n",
      "True == False:  False\n",
      "False == False: True\n",
      "True and True:  True\n",
      "True or False: True\n",
      "1 is 1 True\n",
      "1 is not 2 True\n",
      "A in Asabeneh True\n",
      "B in Asabeneh False\n",
      "True\n",
      "a in an: True\n",
      "4 is 2 ** 2: True\n",
      "True\n",
      "False\n",
      "False\n",
      "True\n",
      "True\n",
      "False\n",
      "False\n",
      "False\n",
      "True\n",
      "True\n",
      "False\n"
     ]
    }
   ],
   "source": [
    "print(3 > 2)     # True, because 3 is greater than 2\n",
    "print(3 >= 2)    # True, because 3 is greater than 2\n",
    "print(3 < 2)     # False,  because 3 is greater than 2\n",
    "print(2 < 3)     # True, because 2 is less than 3\n",
    "print(2 <= 3)    # True, because 2 is less than 3\n",
    "print(3 == 2)    # False, because 3 is not equal to 2\n",
    "print(3 != 2)    # True, because 3 is not equal to 2\n",
    "print(len('mango') == len('avocado'))  # False\n",
    "print(len('mango') != len('avocado'))  # True\n",
    "print(len('mango') < len('avocado'))   # True\n",
    "print(len('milk') != len('meat'))      # False\n",
    "print(len('milk') == len('meat'))      # True\n",
    "print(len('tomato') == len('potato'))  # True\n",
    "print(len('python') > len('dragon'))   # False\n",
    "\n",
    "# Boolean comparison\n",
    "print('True == True: ', True == True)\n",
    "print('True == False: ', True == False)\n",
    "print('False == False:', False == False)\n",
    "print('True and True: ', True and True)\n",
    "print('True or False:', True or False)\n",
    "\n",
    "# Another way comparison \n",
    "print('1 is 1', 1 is 1)                   # True - because the data values are the same\n",
    "print('1 is not 2', 1 is not 2)           # True - because 1 is not 2\n",
    "print('A in Asabeneh', 'A' in 'Asabeneh') # True - A found in the string\n",
    "print('B in Asabeneh', 'B' in 'Asabeneh') # False -there is no uppercase B\n",
    "print('coding' in 'coding for all') # True - because coding for all has the word coding\n",
    "print('a in an:', 'a' in 'an')      # True\n",
    "print('4 is 2 ** 2:', 4 is 2 **2)   # True\n",
    "\n",
    "print(3 > 2 and 4 > 3) # True - because both statements are true\n",
    "print(3 > 2 and 4 < 3) # False - because the second statement is false\n",
    "print(3 < 2 and 4 < 3) # False - because both statements are false\n",
    "print(3 > 2 or 4 > 3)  # True - because both statements are true\n",
    "print(3 > 2 or 4 < 3)  # True - because one of the statement is true\n",
    "print(3 < 2 or 4 < 3)  # False - because both statements are false\n",
    "print(not 3 > 2)     # False - because 3 > 2 is true, then not True gives False\n",
    "print(not True)      # False - Negation, the not operator turns true to false\n",
    "print(not False)     # True\n",
    "print(not not True)  # True\n",
    "print(not not False) # False"
   ]
  },
  {
   "cell_type": "code",
   "execution_count": 35,
   "metadata": {},
   "outputs": [
    {
     "name": "stdout",
     "output_type": "stream",
     "text": [
      "P\n",
      "1\n",
      "Hello, World!\n",
      "13\n",
      "I hope you are enjoying 30 days of python challenge\n"
     ]
    }
   ],
   "source": [
    "# Day4 String\n",
    "# Single line comment\n",
    "letter = 'P'                # A string could be a single character or a bunch of texts\n",
    "print(letter)               # P\n",
    "print(len(letter))          # 1\n",
    "greeting = 'Hello, World!'  # String could be  a single or double quote,\"Hello, World!\"\n",
    "print(greeting)             # Hello, World!\n",
    "print(len(greeting))        # 13\n",
    "sentence = \"I hope you are enjoying 30 days of python challenge\"\n",
    "print(sentence)"
   ]
  },
  {
   "cell_type": "code",
   "execution_count": 36,
   "metadata": {},
   "outputs": [
    {
     "name": "stdout",
     "output_type": "stream",
     "text": [
      "I am a teacher and enjoy teaching.\n",
      "I didn't find anything as rewarding as empowering people.\n",
      "That is why I created 30 days of python.\n",
      "I am a teacher and enjoy teaching.\n",
      "I didn't find anything as rewarding as empowering people.\n",
      "That is why I created 30 days of python.\n"
     ]
    }
   ],
   "source": [
    "# Multiline String\n",
    "multiline_string = '''I am a teacher and enjoy teaching.\n",
    "I didn't find anything as rewarding as empowering people.\n",
    "That is why I created 30 days of python.'''\n",
    "print(multiline_string)\n",
    "# Another way of doing the same thing\n",
    "multiline_string = \"\"\"I am a teacher and enjoy teaching.\n",
    "I didn't find anything as rewarding as empowering people.\n",
    "That is why I created 30 days of python.\"\"\"\n",
    "print(multiline_string)\n"
   ]
  },
  {
   "cell_type": "code",
   "execution_count": 37,
   "metadata": {},
   "outputs": [
    {
     "name": "stdout",
     "output_type": "stream",
     "text": [
      "Asabeneh Yetayeh\n",
      "8\n",
      "7\n",
      "True\n",
      "16\n"
     ]
    }
   ],
   "source": [
    "# String Concatenation\n",
    "first_name = 'Asabeneh'\n",
    "last_name = 'Yetayeh'\n",
    "space = ' '\n",
    "full_name = first_name  +  space + last_name\n",
    "print(full_name) # Asabeneh Yetayeh\n",
    "# Checking length of a string using len() builtin function\n",
    "print(len(first_name))  # 8\n",
    "print(len(last_name))   # 7\n",
    "print(len(first_name) > len(last_name)) # True\n",
    "print(len(full_name)) # 15"
   ]
  },
  {
   "cell_type": "code",
   "execution_count": 38,
   "metadata": {},
   "outputs": [
    {
     "name": "stdout",
     "output_type": "stream",
     "text": [
      "P\n",
      "y\n",
      "t\n",
      "h\n",
      "o\n",
      "n\n"
     ]
    }
   ],
   "source": [
    "#### Unpacking characters \n",
    "language = 'Python'\n",
    "a,b,c,d,e,f = language # unpacking sequence characters into variables\n",
    "print(a) # P\n",
    "print(b) # y\n",
    "print(c) # t \n",
    "print(d) # h\n",
    "print(e) # o\n",
    "print(f) # n"
   ]
  },
  {
   "cell_type": "code",
   "execution_count": 41,
   "metadata": {},
   "outputs": [
    {
     "name": "stdout",
     "output_type": "stream",
     "text": [
      "P\n",
      "y\n",
      "5\n",
      "n\n"
     ]
    }
   ],
   "source": [
    "# Accessing characters in strings by index\n",
    "language = 'Python'\n",
    "first_letter = language[0]\n",
    "print(first_letter) # P\n",
    "second_letter = language[1]\n",
    "print(second_letter) # y\n",
    "last_index = len(language) - 1\n",
    "print(last_index)\n",
    "last_letter = language[last_index]\n",
    "print(last_letter) # n"
   ]
  },
  {
   "cell_type": "code",
   "execution_count": 42,
   "metadata": {},
   "outputs": [
    {
     "name": "stdout",
     "output_type": "stream",
     "text": [
      "n\n",
      "o\n"
     ]
    }
   ],
   "source": [
    "# If we want to start from right end we can use negative indexing. -1 is the last index\n",
    "language = 'Python'\n",
    "last_letter = language[-1]\n",
    "print(last_letter) # n\n",
    "second_last = language[-2]\n",
    "print(second_last) # o"
   ]
  },
  {
   "cell_type": "code",
   "execution_count": 44,
   "metadata": {},
   "outputs": [
    {
     "name": "stdout",
     "output_type": "stream",
     "text": [
      "hon\n"
     ]
    }
   ],
   "source": [
    "#Slicing\n",
    "\n",
    "language= 'Python'\n",
    "first_three=language[0:3]\n",
    "last_three = language[3:6]\n",
    "print(last_three) # hon"
   ]
  },
  {
   "cell_type": "code",
   "execution_count": 45,
   "metadata": {},
   "outputs": [
    {
     "name": "stdout",
     "output_type": "stream",
     "text": [
      "hon\n",
      "hon\n"
     ]
    }
   ],
   "source": [
    "# Another way\n",
    "last_three = language[-3:]\n",
    "print(last_three)   # hon\n",
    "last_three = language[3:]\n",
    "print(last_three)   # hon"
   ]
  },
  {
   "cell_type": "code",
   "execution_count": 54,
   "metadata": {},
   "outputs": [
    {
     "name": "stdout",
     "output_type": "stream",
     "text": [
      "P\n"
     ]
    }
   ],
   "source": [
    "# Skipping character while splitting Python strings\n",
    "language = 'Python'\n",
    "print(language[0:1:6]) # "
   ]
  },
  {
   "cell_type": "code",
   "execution_count": 55,
   "metadata": {},
   "outputs": [
    {
     "name": "stdout",
     "output_type": "stream",
     "text": [
      "I hope every one enjoying the python challenge.\n",
      "Do you ?\n",
      "Days\tTopics\tExercises\n",
      "Day 1\t3\t5\n",
      "Day 2\t3\t5\n",
      "Day 3\t3\t5\n",
      "Day 4\t3\t5\n",
      "This is a back slash  symbol (\\)\n",
      "In every programming language it starts with \"Hello, World!\"\n"
     ]
    }
   ],
   "source": [
    "# Escape sequence\n",
    "print('I hope every one enjoying the python challenge.\\nDo you ?') # line break\n",
    "print('Days\\tTopics\\tExercises')\n",
    "print('Day 1\\t3\\t5')\n",
    "print('Day 2\\t3\\t5')\n",
    "print('Day 3\\t3\\t5')\n",
    "print('Day 4\\t3\\t5')\n",
    "print('This is a back slash  symbol (\\\\)') # To write a back slash\n",
    "print('In every programming language it starts with \\\"Hello, World!\\\"')"
   ]
  },
  {
   "cell_type": "code",
   "execution_count": 58,
   "metadata": {},
   "outputs": [
    {
     "name": "stdout",
     "output_type": "stream",
     "text": [
      "Thirty days of python\n"
     ]
    }
   ],
   "source": [
    "## String Methods\n",
    "# capitalize(): Converts the first character the string to Capital Letter\n",
    "\n",
    "challenge = 'thirty days of python'\n",
    "print(challenge.capitalize()) # 'Thirty days of python'\n"
   ]
  },
  {
   "cell_type": "code",
   "execution_count": 59,
   "metadata": {},
   "outputs": [
    {
     "name": "stdout",
     "output_type": "stream",
     "text": [
      "3\n",
      "1\n",
      "2\n"
     ]
    }
   ],
   "source": [
    "# count(): returns occurrences of substring in string, count(substring, start=.., end=..)\n",
    "\n",
    "challenge = 'thirty days of python'\n",
    "print(challenge.count('y')) # 3\n",
    "print(challenge.count('y', 7, 14)) # 1\n",
    "print(challenge.count('th')) # 2`"
   ]
  },
  {
   "cell_type": "code",
   "execution_count": 60,
   "metadata": {},
   "outputs": [
    {
     "name": "stdout",
     "output_type": "stream",
     "text": [
      "True\n",
      "False\n"
     ]
    }
   ],
   "source": [
    "# endswith(): Checks if a string ends with a specified ending\n",
    "\n",
    "challenge = 'thirty days of python'\n",
    "print(challenge.endswith('on'))   # True\n",
    "print(challenge.endswith('tion')) # False\n"
   ]
  },
  {
   "cell_type": "code",
   "execution_count": 61,
   "metadata": {},
   "outputs": [
    {
     "name": "stdout",
     "output_type": "stream",
     "text": [
      "thirty  days    of      python\n",
      "thirty    days      of        python\n"
     ]
    }
   ],
   "source": [
    "\n",
    "# expandtabs(): Replaces tab character with spaces, default tab size is 8. It takes tab size argument\n",
    "\n",
    "challenge = 'thirty\\tdays\\tof\\tpython'\n",
    "print(challenge.expandtabs())   # 'thirty  days    of      python'\n",
    "print(challenge.expandtabs(10)) # 'thirty    days      of        python'"
   ]
  },
  {
   "cell_type": "code",
   "execution_count": 62,
   "metadata": {},
   "outputs": [
    {
     "name": "stdout",
     "output_type": "stream",
     "text": [
      "5\n",
      "0\n"
     ]
    }
   ],
   "source": [
    "# find(): Returns the index of first occurrence of substring\n",
    "\n",
    "challenge = 'thirty days of python'\n",
    "print(challenge.find('y'))  # 5\n",
    "print(challenge.find('th')) # 0"
   ]
  },
  {
   "cell_type": "code",
   "execution_count": 63,
   "metadata": {},
   "outputs": [
    {
     "name": "stdout",
     "output_type": "stream",
     "text": [
      "I am Asabeneh Yetayeh. I am a teacher. I live in Finland.\n"
     ]
    }
   ],
   "source": [
    "# format()\tformats string into nicer output    \n",
    "first_name = 'Asabeneh'\n",
    "last_name = 'Yetayeh'\n",
    "job = 'teacher'\n",
    "country = 'Finland'\n",
    "sentence = 'I am {} {}. I am a {}. I live in {}.'.format(first_name, last_name, job, country)\n",
    "print(sentence) # I am Asabeneh Yetayeh. I am a teacher. I live in Finland."
   ]
  },
  {
   "cell_type": "code",
   "execution_count": 64,
   "metadata": {},
   "outputs": [
    {
     "name": "stdout",
     "output_type": "stream",
     "text": [
      "True\n"
     ]
    }
   ],
   "source": [
    "\n",
    "# isalnum(): Checks alphanumeric character\n",
    "\n",
    "challenge = 'ThirtyDaysPython'\n",
    "print(challenge.isalnum()) # True"
   ]
  },
  {
   "cell_type": "code",
   "execution_count": 65,
   "metadata": {},
   "outputs": [
    {
     "name": "stdout",
     "output_type": "stream",
     "text": [
      "HTML#, CSS#, JavaScript#, React\n"
     ]
    }
   ],
   "source": [
    "# join(): Returns a concatenated string\n",
    "\n",
    "web_tech = ['HTML', 'CSS', 'JavaScript', 'React']\n",
    "result = '#, '.join(web_tech)\n",
    "print(result) # 'HTML# CSS# JavaScript# React'"
   ]
  },
  {
   "cell_type": "code",
   "execution_count": 66,
   "metadata": {},
   "outputs": [
    {
     "name": "stdout",
     "output_type": "stream",
     "text": [
      "True\n",
      "False\n"
     ]
    }
   ],
   "source": [
    "# startswith(): Checks if String Starts with the Specified String\n",
    "\n",
    "challenge = 'thirty days of python'\n",
    "print(challenge.startswith('thirty')) # True\n",
    "challenge = '30 days of python'\n",
    "print(challenge.startswith('thirty')) # False"
   ]
  },
  {
   "cell_type": "code",
   "execution_count": 67,
   "metadata": {},
   "outputs": [
    {
     "name": "stdout",
     "output_type": "stream",
     "text": [
      "THIRTY DAYS OF PYTHON\n"
     ]
    }
   ],
   "source": [
    "# swapcase(): Checks if String Starts with the Specified String\n",
    "  \n",
    "challenge = 'thirty days of python'\n",
    "print(challenge.swapcase())   # THIRTY DAYS OF PYTHON\n",
    "challenge = 'Thirty Days Of Python'"
   ]
  },
  {
   "cell_type": "code",
   "execution_count": 1,
   "metadata": {},
   "outputs": [
    {
     "name": "stdout",
     "output_type": "stream",
     "text": [
      "0\n"
     ]
    }
   ],
   "source": [
    "# Day-5 Lists\n",
    "\n",
    "empty_list=list()\n",
    "print(len(empty_list))"
   ]
  },
  {
   "cell_type": "code",
   "execution_count": 3,
   "metadata": {},
   "outputs": [
    {
     "name": "stdout",
     "output_type": "stream",
     "text": [
      "['banana', 'orange', 'mango', 'lemon']\n",
      "['Tomato', 'Potato', 'Cabbage', 'Onion', 'Carrot']\n",
      "['milk', 'meat', 'butter', 'yoghurt']\n",
      "['HTML', 'CSS', 'JS', 'React', 'Redux', 'Node', 'MongDB']\n",
      "['Finland', 'Estonia', 'Denmark', 'Sweden', 'Norway']\n"
     ]
    }
   ],
   "source": [
    "fruits = ['banana', 'orange', 'mango', 'lemon']                     # list of fruits\n",
    "vegetables = ['Tomato', 'Potato', 'Cabbage','Onion', 'Carrot']      # list of vegetables\n",
    "animal_products = ['milk', 'meat', 'butter', 'yoghurt']             # list of animal products\n",
    "web_techs = ['HTML', 'CSS', 'JS', 'React','Redux', 'Node', 'MongDB'] # list of web technologies\n",
    "countries = ['Finland', 'Estonia', 'Denmark', 'Sweden', 'Norway']\n",
    "\n",
    "\n",
    "\n",
    "print(fruits)\n",
    "print(vegetables)\n",
    "print(animal_products)\n",
    "print(web_techs)\n",
    "print(countries)"
   ]
  },
  {
   "cell_type": "code",
   "execution_count": 10,
   "metadata": {},
   "outputs": [
    {
     "name": "stdout",
     "output_type": "stream",
     "text": [
      "banana\n",
      "orange\n",
      "lemon\n"
     ]
    }
   ],
   "source": [
    "# Modifying list\n",
    "\n",
    "fruits = ['banana', 'orange', 'mango', 'lemon'] \n",
    "first_fruit = fruits[0] # we are accessing the first item using its index\n",
    "print(first_fruit)      # banana\n",
    "second_fruit = fruits[1]\n",
    "print(second_fruit)     # orange\n",
    "last_fruit = fruits[3]\n",
    "print(last_fruit) # lemon\n",
    "# Last index\n",
    "last_index = len(fruits) - 1\n",
    "last_fruit = fruits[last_index]\n"
   ]
  },
  {
   "cell_type": "code",
   "execution_count": 11,
   "metadata": {},
   "outputs": [
    {
     "name": "stdout",
     "output_type": "stream",
     "text": [
      "peach\n",
      "mango\n"
     ]
    }
   ],
   "source": [
    "# Accessing itmes\n",
    "fruits = ['banana', 'orange', 'mango', 'peach'] \n",
    "last_fruit = fruits[-1]\n",
    "second_last = fruits[-2]\n",
    "print(last_fruit)       # peach\n",
    "print(second_last)      # mango\n"
   ]
  },
  {
   "cell_type": "code",
   "execution_count": 13,
   "metadata": {},
   "outputs": [],
   "source": [
    "# Slicing items\n",
    "fruits = ['banana', 'orange', 'mango', 'lemon'] \n",
    "all_fruits = fruits[0:4] # it returns all the fruits\n",
    "# this also give the same result as the above\n",
    "all_fruits = fruits[0:] # if we don't set where to stop it takes all the rest\n",
    "orange_and_mango = fruits[1:3] # it does not include the end index\n",
    "orange_mango_lemon = fruits[1:]\n",
    "\n",
    "\n"
   ]
  },
  {
   "cell_type": "code",
   "execution_count": 15,
   "metadata": {},
   "outputs": [],
   "source": [
    "fruits = ['banana', 'orange', 'mango', 'lemon'] \n",
    "all_fruits = fruits[-4:] # it returns all the fruits\n",
    "# this is also give the same result as the above\n",
    "orange_and_mango = fruits[-3:-1] # it does not include the end index\n",
    "orange_mango_lemon = fruits[-3:]"
   ]
  },
  {
   "cell_type": "code",
   "execution_count": 20,
   "metadata": {},
   "outputs": [
    {
     "name": "stdout",
     "output_type": "stream",
     "text": [
      "['Avocado', 'orange', 'mango', 'lemon']\n",
      "['Avocado', 'apple', 'mango', 'lemon']\n",
      "['Avocado', 'apple', 'mango', 'lemon']\n"
     ]
    }
   ],
   "source": [
    "fruits = ['banana', 'orange', 'mango', 'lemon'] \n",
    "fruits[0] = 'Avocado' \n",
    "print(fruits)       #  ['avocado', 'orange', 'mango', 'lemon']\n",
    "fruits[1] = 'apple'\n",
    "print(fruits)       #  ['avocado', 'apple', 'mango', 'lemon']\n",
    "last_index = len(fruits)\n",
    "#fruits[last_index]\n",
    "print(fruits)        #  ['avocado', 'apple', 'mango', 'lime']"
   ]
  },
  {
   "cell_type": "code",
   "execution_count": 21,
   "metadata": {},
   "outputs": [
    {
     "name": "stdout",
     "output_type": "stream",
     "text": [
      "True\n",
      "False\n"
     ]
    }
   ],
   "source": [
    "# checking items\n",
    "fruits = ['banana', 'orange', 'mango', 'lemon']\n",
    "does_exist = 'banana' in fruits\n",
    "print(does_exist)  # True\n",
    "does_exist = 'lime' in fruits\n",
    "print(does_exist)  # False"
   ]
  },
  {
   "cell_type": "code",
   "execution_count": 22,
   "metadata": {},
   "outputs": [
    {
     "name": "stdout",
     "output_type": "stream",
     "text": [
      "['banana', 'orange', 'mango', 'lemon', 'apple']\n",
      "['banana', 'orange', 'mango', 'lemon', 'apple', 'lime']\n"
     ]
    }
   ],
   "source": [
    "# Append\n",
    "fruits = ['banana', 'orange', 'mango', 'lemon']\n",
    "fruits.append('apple')\n",
    "print(fruits)           # ['banana', 'orange', 'mango', 'lemon', 'apple']\n",
    "fruits.append('lime')   # ['banana', 'orange', 'mango', 'lemon', 'apple', 'lime]\n",
    "print(fruits)"
   ]
  },
  {
   "cell_type": "code",
   "execution_count": 24,
   "metadata": {},
   "outputs": [
    {
     "name": "stdout",
     "output_type": "stream",
     "text": [
      "['banana', 'orange', 'apple', 'mango', 'lemon']\n",
      "['banana', 'orange', 'apple', 'lime', 'mango', 'lemon']\n"
     ]
    }
   ],
   "source": [
    "# insert\n",
    "fruits = ['banana', 'orange', 'mango', 'lemon']\n",
    "fruits.insert(2, 'apple') # insert apple between orange and mango\n",
    "print(fruits)           # ['banana', 'orange', 'apple', 'mango', 'lemon']\n",
    "fruits.insert(3, 'lime')   # ['banana', 'orange', 'apple', 'mango', 'lime','lemon',]\n",
    "print(fruits)"
   ]
  },
  {
   "cell_type": "code",
   "execution_count": 25,
   "metadata": {},
   "outputs": [
    {
     "name": "stdout",
     "output_type": "stream",
     "text": [
      "['orange', 'mango', 'lemon']\n",
      "['orange', 'mango']\n"
     ]
    }
   ],
   "source": [
    "# remove\n",
    "fruits = ['banana', 'orange', 'mango', 'lemon']\n",
    "fruits.remove('banana')\n",
    "print(fruits)  # ['orange', 'mango', 'lemon']\n",
    "fruits.remove('lemon')\n",
    "print(fruits)  # ['orange', 'mango']\n"
   ]
  },
  {
   "cell_type": "code",
   "execution_count": 27,
   "metadata": {},
   "outputs": [
    {
     "name": "stdout",
     "output_type": "stream",
     "text": [
      "['banana', 'orange', 'mango']\n"
     ]
    }
   ],
   "source": [
    "# pop\n",
    "fruits = ['banana', 'orange', 'mango', 'lemon']\n",
    "fruits.pop()     \n",
    "print(fruits)       # ['banana', 'orange', 'mango']"
   ]
  },
  {
   "cell_type": "code",
   "execution_count": 29,
   "metadata": {},
   "outputs": [
    {
     "name": "stdout",
     "output_type": "stream",
     "text": [
      "['orange', 'mango']\n"
     ]
    }
   ],
   "source": [
    "fruits.pop(0)     \n",
    "print(fruits)       # ['orange', 'mango'] "
   ]
  },
  {
   "cell_type": "code",
   "execution_count": 30,
   "metadata": {},
   "outputs": [
    {
     "name": "stdout",
     "output_type": "stream",
     "text": [
      "['orange', 'mango', 'lemon']\n"
     ]
    }
   ],
   "source": [
    "# del \n",
    "fruits = ['banana', 'orange', 'mango', 'lemon']\n",
    "del fruits[0]     \n",
    "print(fruits)       # ['orange', 'mango', 'lemon']"
   ]
  },
  {
   "cell_type": "code",
   "execution_count": 31,
   "metadata": {},
   "outputs": [
    {
     "name": "stdout",
     "output_type": "stream",
     "text": [
      "['orange', 'lemon']\n"
     ]
    },
    {
     "ename": "NameError",
     "evalue": "name 'fruits' is not defined",
     "output_type": "error",
     "traceback": [
      "\u001b[1;31m---------------------------------------------------------------------------\u001b[0m",
      "\u001b[1;31mNameError\u001b[0m                                 Traceback (most recent call last)",
      "\u001b[1;32m<ipython-input-31-efc75ad6695e>\u001b[0m in \u001b[0;36m<module>\u001b[1;34m\u001b[0m\n\u001b[0;32m      2\u001b[0m \u001b[0mprint\u001b[0m\u001b[1;33m(\u001b[0m\u001b[0mfruits\u001b[0m\u001b[1;33m)\u001b[0m       \u001b[1;31m# ['orange', 'lemon']\u001b[0m\u001b[1;33m\u001b[0m\u001b[1;33m\u001b[0m\u001b[0m\n\u001b[0;32m      3\u001b[0m \u001b[1;32mdel\u001b[0m \u001b[0mfruits\u001b[0m\u001b[1;33m\u001b[0m\u001b[1;33m\u001b[0m\u001b[0m\n\u001b[1;32m----> 4\u001b[1;33m \u001b[0mprint\u001b[0m\u001b[1;33m(\u001b[0m\u001b[0mfruits\u001b[0m\u001b[1;33m)\u001b[0m       \u001b[1;31m# This should give: NameError: name 'fruits' is not defined\u001b[0m\u001b[1;33m\u001b[0m\u001b[1;33m\u001b[0m\u001b[0m\n\u001b[0m",
      "\u001b[1;31mNameError\u001b[0m: name 'fruits' is not defined"
     ]
    }
   ],
   "source": [
    "del fruits[1]     \n",
    "print(fruits)       # ['orange', 'lemon']\n",
    "del fruits\n",
    "print(fruits)       # This should give: NameError: name 'fruits' is not defined"
   ]
  },
  {
   "cell_type": "code",
   "execution_count": 32,
   "metadata": {},
   "outputs": [
    {
     "name": "stdout",
     "output_type": "stream",
     "text": [
      "[]\n"
     ]
    }
   ],
   "source": [
    "# clear\n",
    "fruits = ['banana', 'orange', 'mango', 'lemon']\n",
    "fruits.clear()     \n",
    "print(fruits)       # []"
   ]
  },
  {
   "cell_type": "code",
   "execution_count": 33,
   "metadata": {},
   "outputs": [
    {
     "name": "stdout",
     "output_type": "stream",
     "text": [
      "['banana', 'orange', 'mango', 'lemon']\n"
     ]
    }
   ],
   "source": [
    "# copying a lits\n",
    "\n",
    "fruits = ['banana', 'orange', 'mango', 'lemon']\n",
    "fruits_copy = fruits.copy()     \n",
    "print(fruits_copy)       # ['banana', 'orange', 'mango', 'lemon']"
   ]
  },
  {
   "cell_type": "code",
   "execution_count": 34,
   "metadata": {},
   "outputs": [
    {
     "name": "stdout",
     "output_type": "stream",
     "text": [
      "[-5, -4, -3, -2, -1, 0, 1, 2, 3, 4, 5]\n",
      "['banana', 'orange', 'mango', 'lemon', 'Tomato', 'Potato', 'Cabbage', 'Onion', 'Carrot']\n"
     ]
    }
   ],
   "source": [
    "# join\n",
    "positive_numbers = [1, 2, 3,4,5]\n",
    "zero = [0]\n",
    "negative_numbers = [-5,-4,-3,-2,-1]\n",
    "integers = negative_numbers + zero + positive_numbers\n",
    "print(integers)\n",
    "fruits = ['banana', 'orange', 'mango', 'lemon']\n",
    "vegetables = ['Tomato', 'Potato', 'Cabbage','Onion', 'Carrot'] \n",
    "fruits_and_vegetables = fruits + vegetables\n",
    "print(fruits_and_vegetables )\n"
   ]
  },
  {
   "cell_type": "code",
   "execution_count": 37,
   "metadata": {},
   "outputs": [
    {
     "name": "stdout",
     "output_type": "stream",
     "text": [
      "Numbers: [0, 1, 2, 3, 4, 5, 6]\n",
      "Integers: [-5, -4, -3, -2, -1, 0, 1, 2, 3, 4, 5]\n",
      "Fruits and vegetables: ['banana', 'orange', 'mango', 'lemon', 'Tomato', 'Potato', 'Cabbage', 'Onion', 'Carrot']\n"
     ]
    }
   ],
   "source": [
    "# join with extend\n",
    "num1 = [0, 1, 2, 3]\n",
    "num2= [4, 5,6]\n",
    "num1.extend(num2)\n",
    "print('Numbers:', num1)\n",
    "negative_numbers = [-5,-4,-3,-2,-1]\n",
    "positive_numbers = [1, 2, 3,4,5]\n",
    "zero = [0]\n",
    "\n",
    "negative_numbers.extend(zero)\n",
    "negative_numbers.extend(positive_numbers)\n",
    "print('Integers:', negative_numbers)\n",
    "fruits = ['banana', 'orange', 'mango', 'lemon']\n",
    "vegetables = ['Tomato', 'Potato', 'Cabbage','Onion', 'Carrot'] \n",
    "fruits.extend(vegetables)\n",
    "print('Fruits and vegetables:', fruits )\n"
   ]
  },
  {
   "cell_type": "code",
   "execution_count": 38,
   "metadata": {},
   "outputs": [
    {
     "name": "stdout",
     "output_type": "stream",
     "text": [
      "1\n",
      "3\n"
     ]
    }
   ],
   "source": [
    "\n",
    "# count\n",
    "fruits = ['banana', 'orange', 'mango', 'lemon']\n",
    "print(fruits.count('orange'))   # 1\n",
    "ages = [22, 19, 24, 25, 26, 24, 25, 24]\n",
    "print(ages.count(24))           # 3"
   ]
  },
  {
   "cell_type": "code",
   "execution_count": 39,
   "metadata": {},
   "outputs": [
    {
     "name": "stdout",
     "output_type": "stream",
     "text": [
      "1\n",
      "2\n",
      "None\n",
      "None\n"
     ]
    }
   ],
   "source": [
    "# index\n",
    "fruits = ['banana', 'orange', 'mango', 'lemon']\n",
    "print(fruits.index('orange'))   # 1\n",
    "ages = [22, 19, 24, 25, 26, 24, 25, 24]\n",
    "print(ages.index(24)) \n",
    "# Reverse\n",
    "fruits = ['banana', 'orange', 'mango', 'lemon']\n",
    "fruits.reverse()\n",
    "print(fruits.reverse())  \n",
    "ages = [22, 19, 24, 25, 26, 24, 25, 24]\n",
    "ages.reverse()\n",
    "print(ages.reverse()) "
   ]
  },
  {
   "cell_type": "code",
   "execution_count": 40,
   "metadata": {},
   "outputs": [
    {
     "name": "stdout",
     "output_type": "stream",
     "text": [
      "['banana', 'lemon', 'mango', 'orange']\n",
      "['orange', 'mango', 'lemon', 'banana']\n",
      "[19, 22, 24, 24, 24, 25, 25, 26]\n",
      "[26, 25, 25, 24, 24, 24, 22, 19]\n"
     ]
    }
   ],
   "source": [
    "# sort\n",
    "fruits = ['banana', 'orange', 'mango', 'lemon']\n",
    "fruits.sort()\n",
    "print(fruits) \n",
    "fruits.sort(reverse=True)\n",
    "print(fruits)\n",
    "ages = [22, 19, 24, 25, 26, 24, 25, 24]\n",
    "ages.sort()\n",
    "print(ages) \n",
    "ages.sort(reverse=True)\n",
    "print(ages) "
   ]
  },
  {
   "cell_type": "code",
   "execution_count": 41,
   "metadata": {},
   "outputs": [
    {
     "name": "stdout",
     "output_type": "stream",
     "text": [
      "()\n"
     ]
    }
   ],
   "source": [
    "# Day 6 Tuples\n",
    "#creating an empty tuple\n",
    "\n",
    "empty_tuple=()\n",
    "print(empty_tuple)"
   ]
  },
  {
   "cell_type": "code",
   "execution_count": 44,
   "metadata": {},
   "outputs": [
    {
     "data": {
      "text/plain": [
       "3"
      ]
     },
     "execution_count": 44,
     "metadata": {},
     "output_type": "execute_result"
    }
   ],
   "source": [
    "#initiate the values with tuple\n",
    "# syntax\n",
    "tpl = ('item1', 'item2','item3')\n",
    "len(tpl) # length of tuple"
   ]
  },
  {
   "cell_type": "code",
   "execution_count": 45,
   "metadata": {},
   "outputs": [],
   "source": [
    "# Accessing tuple ites\n",
    "\n",
    "# Syntax\n",
    "tpl = ('item1', 'item2', 'item3')\n",
    "first_item = tpl[0]\n",
    "second_item = tpl[1]"
   ]
  },
  {
   "cell_type": "code",
   "execution_count": 52,
   "metadata": {},
   "outputs": [
    {
     "name": "stdout",
     "output_type": "stream",
     "text": [
      "lemon\n"
     ]
    }
   ],
   "source": [
    "fruits = ('banana', 'orange', 'mango', 'lemon')\n",
    "first_fruit = fruits[0]\n",
    "second_fruit = fruits[1]\n",
    "last_index =len(fruits) - 1\n",
    "last_fruit = fruits[last_index]\n",
    "print(last_fruit)"
   ]
  },
  {
   "cell_type": "code",
   "execution_count": 49,
   "metadata": {},
   "outputs": [],
   "source": [
    "# negative indexing\n",
    "# Syntax\n",
    "tpl = ('item1', 'item2', 'item3','item4')\n",
    "first_item = tpl[-4]\n",
    "second_item = tpl[-3]"
   ]
  },
  {
   "cell_type": "code",
   "execution_count": 51,
   "metadata": {},
   "outputs": [
    {
     "name": "stdout",
     "output_type": "stream",
     "text": [
      "lemon\n"
     ]
    }
   ],
   "source": [
    "fruits = ('banana', 'orange', 'mango', 'lemon')\n",
    "first_fruit = fruits[-4]\n",
    "second_fruit = fruits[-3]\n",
    "last_fruit = fruits[-1]\n",
    "print(last_fruit)"
   ]
  },
  {
   "cell_type": "code",
   "execution_count": 56,
   "metadata": {},
   "outputs": [
    {
     "name": "stdout",
     "output_type": "stream",
     "text": [
      "('item1', 'item2', 'item3', 'item4')\n",
      "('item2', 'item3')\n"
     ]
    }
   ],
   "source": [
    "#slicing tuples\n",
    "tpl = ('item1', 'item2', 'item3','item4')\n",
    "all_items = tpl[0:4]         # all items\n",
    "all_items = tpl[0:]   \n",
    "print(all_items)# all items\n",
    "middle_two_items = tpl[1:3]  # does not include item at index 3\n",
    "print(middle_two_items)"
   ]
  },
  {
   "cell_type": "code",
   "execution_count": 57,
   "metadata": {},
   "outputs": [
    {
     "name": "stdout",
     "output_type": "stream",
     "text": [
      "('orange', 'mango', 'lemon')\n"
     ]
    }
   ],
   "source": [
    "fruits = ('banana', 'orange', 'mango', 'lemon')\n",
    "all_fruits = fruits[0:4]    # all items\n",
    "all_fruits= fruits[0:]      # all items\n",
    "orange_mango = fruits[1:3]  # doesn't include item at index 3\n",
    "orange_to_the_rest = fruits[1:]\n",
    "print(orange_to_the_rest)"
   ]
  },
  {
   "cell_type": "code",
   "execution_count": 59,
   "metadata": {},
   "outputs": [
    {
     "name": "stdout",
     "output_type": "stream",
     "text": [
      "('orange', 'mango')\n"
     ]
    }
   ],
   "source": [
    "fruits = ('banana', 'orange', 'mango', 'lemon')\n",
    "all_items = tpl[-4:]         # all items\n",
    "middle_two_items = fruits[-3:-1]  # does not include item at index 3 (-1)\n",
    "print(middle_two_items)"
   ]
  },
  {
   "cell_type": "code",
   "execution_count": 60,
   "metadata": {},
   "outputs": [],
   "source": [
    "#changing tuples to list\n",
    "tpl = ('item1', 'item2', 'item3','item4')\n",
    "lst = list(tpl)"
   ]
  },
  {
   "cell_type": "code",
   "execution_count": 61,
   "metadata": {},
   "outputs": [
    {
     "name": "stdout",
     "output_type": "stream",
     "text": [
      "['apple', 'orange', 'mango', 'lemon']\n",
      "('apple', 'orange', 'mango', 'lemon')\n"
     ]
    }
   ],
   "source": [
    "fruits = ('banana', 'orange', 'mango', 'lemon')\n",
    "fruits = list(fruits)\n",
    "fruits[0] = 'apple'\n",
    "print(fruits)     # ['apple', 'orange', 'mango', 'lemon']\n",
    "fruits = tuple(fruits)\n",
    "print(fruits)     # ('apple', 'orange', 'mango', 'lemon')"
   ]
  },
  {
   "cell_type": "code",
   "execution_count": 62,
   "metadata": {},
   "outputs": [
    {
     "data": {
      "text/plain": [
       "True"
      ]
     },
     "execution_count": 62,
     "metadata": {},
     "output_type": "execute_result"
    }
   ],
   "source": [
    "#checking an item in a list\n",
    "tpl = ('item1', 'item2', 'item3','item4')\n",
    "'item2' in tpl # True"
   ]
  },
  {
   "cell_type": "code",
   "execution_count": 63,
   "metadata": {},
   "outputs": [
    {
     "name": "stdout",
     "output_type": "stream",
     "text": [
      "True\n",
      "False\n"
     ]
    },
    {
     "ename": "TypeError",
     "evalue": "'tuple' object does not support item assignment",
     "output_type": "error",
     "traceback": [
      "\u001b[1;31m---------------------------------------------------------------------------\u001b[0m",
      "\u001b[1;31mTypeError\u001b[0m                                 Traceback (most recent call last)",
      "\u001b[1;32m<ipython-input-63-7a9fc6dde83d>\u001b[0m in \u001b[0;36m<module>\u001b[1;34m\u001b[0m\n\u001b[0;32m      2\u001b[0m \u001b[0mprint\u001b[0m\u001b[1;33m(\u001b[0m\u001b[1;34m'orange'\u001b[0m \u001b[1;32min\u001b[0m \u001b[0mfruits\u001b[0m\u001b[1;33m)\u001b[0m \u001b[1;31m# True\u001b[0m\u001b[1;33m\u001b[0m\u001b[1;33m\u001b[0m\u001b[0m\n\u001b[0;32m      3\u001b[0m \u001b[0mprint\u001b[0m\u001b[1;33m(\u001b[0m\u001b[1;34m'apple'\u001b[0m \u001b[1;32min\u001b[0m \u001b[0mfruits\u001b[0m\u001b[1;33m)\u001b[0m \u001b[1;31m# False\u001b[0m\u001b[1;33m\u001b[0m\u001b[1;33m\u001b[0m\u001b[0m\n\u001b[1;32m----> 4\u001b[1;33m \u001b[0mfruits\u001b[0m\u001b[1;33m[\u001b[0m\u001b[1;36m0\u001b[0m\u001b[1;33m]\u001b[0m \u001b[1;33m=\u001b[0m \u001b[1;34m'apple'\u001b[0m \u001b[1;31m# TypeError: 'tuple' object does not support item assignment\u001b[0m\u001b[1;33m\u001b[0m\u001b[1;33m\u001b[0m\u001b[0m\n\u001b[0m",
      "\u001b[1;31mTypeError\u001b[0m: 'tuple' object does not support item assignment"
     ]
    }
   ],
   "source": [
    "fruits = ('banana', 'orange', 'mango', 'lemon')\n",
    "print('orange' in fruits) # True\n",
    "print('apple' in fruits) # False\n",
    "fruits[0] = 'apple' # TypeError: 'tuple' object does not support item assignment"
   ]
  },
  {
   "cell_type": "code",
   "execution_count": 64,
   "metadata": {},
   "outputs": [
    {
     "name": "stdout",
     "output_type": "stream",
     "text": [
      "('item1', 'item2', 'item3', 'item4', 'item5', 'item6')\n"
     ]
    }
   ],
   "source": [
    "# joining tuples\n",
    "# syntax\n",
    "tpl1 = ('item1', 'item2', 'item3')\n",
    "tpl2 = ('item4', 'item5','item6')\n",
    "tpl3 = tpl1 + tpl2\n",
    "print(tpl3)"
   ]
  },
  {
   "cell_type": "code",
   "execution_count": 65,
   "metadata": {},
   "outputs": [],
   "source": [
    "#Deleteing Tuples\n",
    "# syntax\n",
    "tpl1 = ('item1', 'item2', 'item3')\n",
    "del tpl1"
   ]
  },
  {
   "cell_type": "code",
   "execution_count": 67,
   "metadata": {},
   "outputs": [
    {
     "ename": "NameError",
     "evalue": "name 'tpl1' is not defined",
     "output_type": "error",
     "traceback": [
      "\u001b[1;31m---------------------------------------------------------------------------\u001b[0m",
      "\u001b[1;31mNameError\u001b[0m                                 Traceback (most recent call last)",
      "\u001b[1;32m<ipython-input-67-6d5127215240>\u001b[0m in \u001b[0;36m<module>\u001b[1;34m\u001b[0m\n\u001b[1;32m----> 1\u001b[1;33m \u001b[0mtpl1\u001b[0m\u001b[1;33m\u001b[0m\u001b[1;33m\u001b[0m\u001b[0m\n\u001b[0m",
      "\u001b[1;31mNameError\u001b[0m: name 'tpl1' is not defined"
     ]
    }
   ],
   "source": [
    "tpl1 # will return an error as variable 'tpl1' is been deleted"
   ]
  },
  {
   "cell_type": "code",
   "execution_count": 68,
   "metadata": {},
   "outputs": [],
   "source": [
    "fruits = ('banana', 'orange', 'mango', 'lemon')\n",
    "del fruits"
   ]
  },
  {
   "cell_type": "code",
   "execution_count": 70,
   "metadata": {},
   "outputs": [
    {
     "ename": "NameError",
     "evalue": "name 'fruits' is not defined",
     "output_type": "error",
     "traceback": [
      "\u001b[1;31m---------------------------------------------------------------------------\u001b[0m",
      "\u001b[1;31mNameError\u001b[0m                                 Traceback (most recent call last)",
      "\u001b[1;32m<ipython-input-70-0bb25a6e4bc1>\u001b[0m in \u001b[0;36m<module>\u001b[1;34m\u001b[0m\n\u001b[1;32m----> 1\u001b[1;33m \u001b[0mfruits\u001b[0m \u001b[1;31m# will return an error as variable 'fruits' is been deleted\u001b[0m\u001b[1;33m\u001b[0m\u001b[1;33m\u001b[0m\u001b[0m\n\u001b[0m",
      "\u001b[1;31mNameError\u001b[0m: name 'fruits' is not defined"
     ]
    }
   ],
   "source": [
    "fruits # will return an error as variable 'fruits' is been deleted\n"
   ]
  },
  {
   "cell_type": "code",
   "execution_count": 71,
   "metadata": {},
   "outputs": [
    {
     "name": "stdout",
     "output_type": "stream",
     "text": [
      "set()\n"
     ]
    }
   ],
   "source": [
    "# Day 7 Sets\n",
    "#syntax\n",
    "\n",
    "st={}\n",
    "#or\n",
    "st=set()\n",
    "print(st)"
   ]
  },
  {
   "cell_type": "code",
   "execution_count": 72,
   "metadata": {},
   "outputs": [
    {
     "name": "stdout",
     "output_type": "stream",
     "text": [
      "4\n"
     ]
    }
   ],
   "source": [
    "#create set with intial items\n",
    "# syntax\n",
    "st = {'item1', 'item2', 'item3', 'item4'}\n",
    "print (len(st))"
   ]
  },
  {
   "cell_type": "code",
   "execution_count": 73,
   "metadata": {},
   "outputs": [
    {
     "data": {
      "text/plain": [
       "4"
      ]
     },
     "execution_count": 73,
     "metadata": {},
     "output_type": "execute_result"
    }
   ],
   "source": [
    "fruits = {'banana', 'orange', 'mango', 'lemon'}\n",
    "len(fruits)"
   ]
  },
  {
   "cell_type": "code",
   "execution_count": 74,
   "metadata": {},
   "outputs": [
    {
     "name": "stdout",
     "output_type": "stream",
     "text": [
      "Does set st contain item3?  True\n"
     ]
    }
   ],
   "source": [
    "# Accessing item in the set\n",
    "# syntax\n",
    "st = {'item1', 'item2', 'item3', 'item4'}\n",
    "print(\"Does set st contain item3? \", 'item3' in st) # Does set st contain item3? True\n"
   ]
  },
  {
   "cell_type": "code",
   "execution_count": 75,
   "metadata": {},
   "outputs": [
    {
     "data": {
      "text/plain": [
       "True"
      ]
     },
     "execution_count": 75,
     "metadata": {},
     "output_type": "execute_result"
    }
   ],
   "source": [
    "fruits = {'banana', 'orange', 'mango', 'lemon'}\n",
    "'mango' in fruits"
   ]
  },
  {
   "cell_type": "code",
   "execution_count": 77,
   "metadata": {},
   "outputs": [
    {
     "data": {
      "text/plain": [
       "{'item1', 'item2', 'item3', 'item4', 'item5'}"
      ]
     },
     "execution_count": 77,
     "metadata": {},
     "output_type": "execute_result"
    }
   ],
   "source": [
    "# adding item in the set\n",
    "\n",
    "st = {'item1', 'item2', 'item3', 'item4'}\n",
    "st.add('item5')\n",
    "st"
   ]
  },
  {
   "cell_type": "code",
   "execution_count": 93,
   "metadata": {},
   "outputs": [
    {
     "data": {
      "text/plain": [
       "{'banana', 'lemon', 'mango', 'orange', 'peach'}"
      ]
     },
     "execution_count": 93,
     "metadata": {},
     "output_type": "execute_result"
    }
   ],
   "source": [
    "fruits =  {'banana', 'orange', 'mango', 'lemon'}\n",
    "fruits.add('peach')\n",
    "fruits"
   ]
  },
  {
   "cell_type": "code",
   "execution_count": 81,
   "metadata": {},
   "outputs": [
    {
     "data": {
      "text/plain": [
       "{'Peach', 'banana', 'lemon', 'mango', 'orange'}"
      ]
     },
     "execution_count": 81,
     "metadata": {},
     "output_type": "execute_result"
    }
   ],
   "source": [
    "fruits =  {'banana', 'orange', 'mango', 'lemon'}\n",
    "fruits.add('Peach')\n",
    "fruits"
   ]
  },
  {
   "cell_type": "code",
   "execution_count": 83,
   "metadata": {},
   "outputs": [
    {
     "data": {
      "text/plain": [
       "{'item1', 'item2', 'item3', 'item4', 'item5', 'item6', 'item7'}"
      ]
     },
     "execution_count": 83,
     "metadata": {},
     "output_type": "execute_result"
    }
   ],
   "source": [
    "#Adding multiple items using update\n",
    "# syntax\n",
    "st = {'item1', 'item2', 'item3', 'item4'}\n",
    "st.update(['item5','item6','item7'])\n",
    "st"
   ]
  },
  {
   "cell_type": "code",
   "execution_count": 84,
   "metadata": {},
   "outputs": [],
   "source": [
    "#removing items from the set\n",
    "# syntax\n",
    "st = {'item1', 'item2', 'item3', 'item4'}\n",
    "st.remove('item2')"
   ]
  },
  {
   "cell_type": "code",
   "execution_count": 85,
   "metadata": {},
   "outputs": [
    {
     "data": {
      "text/plain": [
       "set()"
      ]
     },
     "execution_count": 85,
     "metadata": {},
     "output_type": "execute_result"
    }
   ],
   "source": [
    "#clear method.use to clear the item in the tuple\n",
    "# syntax\n",
    "st = {'item1', 'item2', 'item3', 'item4'}\n",
    "st.clear()\n",
    "st\n"
   ]
  },
  {
   "cell_type": "code",
   "execution_count": 88,
   "metadata": {},
   "outputs": [
    {
     "ename": "NameError",
     "evalue": "name 'st' is not defined",
     "output_type": "error",
     "traceback": [
      "\u001b[1;31m---------------------------------------------------------------------------\u001b[0m",
      "\u001b[1;31mNameError\u001b[0m                                 Traceback (most recent call last)",
      "\u001b[1;32m<ipython-input-88-9d75944930ee>\u001b[0m in \u001b[0;36m<module>\u001b[1;34m\u001b[0m\n\u001b[0;32m      2\u001b[0m \u001b[0mst\u001b[0m \u001b[1;33m=\u001b[0m \u001b[1;33m{\u001b[0m\u001b[1;34m'item1'\u001b[0m\u001b[1;33m,\u001b[0m \u001b[1;34m'item2'\u001b[0m\u001b[1;33m,\u001b[0m \u001b[1;34m'item3'\u001b[0m\u001b[1;33m,\u001b[0m \u001b[1;34m'item4'\u001b[0m\u001b[1;33m}\u001b[0m\u001b[1;33m\u001b[0m\u001b[1;33m\u001b[0m\u001b[0m\n\u001b[0;32m      3\u001b[0m \u001b[1;32mdel\u001b[0m \u001b[0mst\u001b[0m\u001b[1;33m\u001b[0m\u001b[1;33m\u001b[0m\u001b[0m\n\u001b[1;32m----> 4\u001b[1;33m \u001b[0mst\u001b[0m\u001b[1;33m\u001b[0m\u001b[1;33m\u001b[0m\u001b[0m\n\u001b[0m",
      "\u001b[1;31mNameError\u001b[0m: name 'st' is not defined"
     ]
    }
   ],
   "source": [
    "# syntax\n",
    "st = {'item1', 'item2', 'item3', 'item4'}\n",
    "del st\n",
    "st # will return 'st' is not defined as the variable is deleted  "
   ]
  },
  {
   "cell_type": "code",
   "execution_count": 90,
   "metadata": {},
   "outputs": [
    {
     "data": {
      "text/plain": [
       "{'item1', 'item2', 'item3', 'item4'}"
      ]
     },
     "execution_count": 90,
     "metadata": {},
     "output_type": "execute_result"
    }
   ],
   "source": [
    "# conversion of set to list or list to set can only contain unique elements and it will remove duplicates\n",
    "\n",
    "# syntax\n",
    "lst = ['item1', 'item2', 'item3', 'item4', 'item1']\n",
    "st = set(lst)  # {'item2', 'item4', 'item1', 'item3'} - the order is random, because sets in general are unordered\n",
    "st"
   ]
  },
  {
   "cell_type": "code",
   "execution_count": 92,
   "metadata": {},
   "outputs": [],
   "source": [
    "# joining set -- we can use it using union or unique method\n",
    "\n",
    "# syntax\n",
    "st1 = {'item1', 'item2', 'item3', 'item4'}\n",
    "st2 = {'item5', 'item6', 'item7', 'item8'}\n",
    "st3 = st1.union(st2)"
   ]
  },
  {
   "cell_type": "code",
   "execution_count": 94,
   "metadata": {},
   "outputs": [
    {
     "data": {
      "text/plain": [
       "{'item2', 'item3'}"
      ]
     },
     "execution_count": 94,
     "metadata": {},
     "output_type": "execute_result"
    }
   ],
   "source": [
    "#findnig intersection of sets\n",
    "\n",
    "# syntax\n",
    "st1 = {'item1', 'item2', 'item3', 'item4'}\n",
    "st2 = {'item3', 'item2'}\n",
    "st1.intersection(st2) # {'item3', 'item2'}"
   ]
  },
  {
   "cell_type": "code",
   "execution_count": 95,
   "metadata": {},
   "outputs": [
    {
     "data": {
      "text/plain": [
       "True"
      ]
     },
     "execution_count": 95,
     "metadata": {},
     "output_type": "execute_result"
    }
   ],
   "source": [
    "# checking subsets or supersets\n",
    "st1 = {'item1', 'item2', 'item3', 'item4'}\n",
    "st2 = {'item2', 'item3'}\n",
    "st2.issubset(st1) # True\n",
    "st1.issuperset(st2) # True"
   ]
  },
  {
   "cell_type": "code",
   "execution_count": 96,
   "metadata": {},
   "outputs": [
    {
     "data": {
      "text/plain": [
       "{'item1', 'item4'}"
      ]
     },
     "execution_count": 96,
     "metadata": {},
     "output_type": "execute_result"
    }
   ],
   "source": [
    "#Checking difference between the two sets\n",
    "# syntax\n",
    "st1 = {'item1', 'item2', 'item3', 'item4'}\n",
    "st2 = {'item2', 'item3'}\n",
    "st2.difference(st1) # set()\n",
    "st1.difference(st2) # {'item1', 'item4'} => st1\\st2"
   ]
  },
  {
   "cell_type": "code",
   "execution_count": 97,
   "metadata": {},
   "outputs": [
    {
     "data": {
      "text/plain": [
       "{'item1', 'item4'}"
      ]
     },
     "execution_count": 97,
     "metadata": {},
     "output_type": "execute_result"
    }
   ],
   "source": [
    "#symmetric differece between the sets\n",
    "\n",
    "# syntax\n",
    "st1 = {'item1', 'item2', 'item3', 'item4'}\n",
    "st2 = {'item2', 'item3'}\n",
    "# it means (A\\B)∪(B)\n",
    "st2.symmetric_difference(st1) # {'item1', 'item4'}"
   ]
  },
  {
   "cell_type": "code",
   "execution_count": 98,
   "metadata": {},
   "outputs": [
    {
     "data": {
      "text/plain": [
       "False"
      ]
     },
     "execution_count": 98,
     "metadata": {},
     "output_type": "execute_result"
    }
   ],
   "source": [
    "# joining sets -- if two sets have items in common or not common we use isdisjoint() method\n",
    "\n",
    "st1 = {'item1', 'item2', 'item3', 'item4'}\n",
    "st2 = {'item2', 'item3'}\n",
    "st2.isdisjoint(st1) # False"
   ]
  },
  {
   "cell_type": "code",
   "execution_count": 99,
   "metadata": {},
   "outputs": [],
   "source": [
    "# Day 7 Dictionary \n",
    "\n",
    "# syntax\n",
    "empty_dict = {}\n",
    "# Dictionary with data values\n",
    "dct = {'key1':'item1', 'key2':'item2', 'key3':'item3', 'key4':'item4'}"
   ]
  },
  {
   "cell_type": "code",
   "execution_count": 105,
   "metadata": {},
   "outputs": [
    {
     "name": "stdout",
     "output_type": "stream",
     "text": [
      "7\n"
     ]
    }
   ],
   "source": [
    "person = {\n",
    "    'first_name':'Asabeneh',\n",
    "    'last_name':'Yetayeh',\n",
    "    'age':250,\n",
    "    'country':'Finland',\n",
    "    'is_marred':True,\n",
    "    'skills':['JavaScript', 'React', 'Node', 'MongoDB', 'Python'],\n",
    "    'address':{\n",
    "        'street':'Space street',\n",
    "        'zipcode':'02210'\n",
    "    }\n",
    "    }\n",
    "print(len(person)) # 7\n",
    "    "
   ]
  },
  {
   "cell_type": "code",
   "execution_count": 106,
   "metadata": {},
   "outputs": [
    {
     "name": "stdout",
     "output_type": "stream",
     "text": [
      "item1\n",
      "item4\n"
     ]
    }
   ],
   "source": [
    "#Accessing a dictionary items\n",
    "# syntax\n",
    "dct = {'key1':'item1', 'key2':'item2', 'key3':'item3', 'key4':'item4'}\n",
    "print(dct['key1']) # item1\n",
    "print(dct['key4']) # item4"
   ]
  },
  {
   "cell_type": "code",
   "execution_count": 107,
   "metadata": {},
   "outputs": [
    {
     "name": "stdout",
     "output_type": "stream",
     "text": [
      "Asabeneh\n",
      "Finland\n",
      "['JavaScript', 'React', 'Node', 'MongoDB', 'Python']\n"
     ]
    },
    {
     "ename": "KeyError",
     "evalue": "'city'",
     "output_type": "error",
     "traceback": [
      "\u001b[1;31m---------------------------------------------------------------------------\u001b[0m",
      "\u001b[1;31mKeyError\u001b[0m                                  Traceback (most recent call last)",
      "\u001b[1;32m<ipython-input-107-a1398dbc1258>\u001b[0m in \u001b[0;36m<module>\u001b[1;34m\u001b[0m\n\u001b[0;32m     14\u001b[0m \u001b[0mprint\u001b[0m\u001b[1;33m(\u001b[0m\u001b[0mperson\u001b[0m\u001b[1;33m[\u001b[0m\u001b[1;34m'country'\u001b[0m\u001b[1;33m]\u001b[0m\u001b[1;33m)\u001b[0m    \u001b[1;31m# Finland\u001b[0m\u001b[1;33m\u001b[0m\u001b[1;33m\u001b[0m\u001b[0m\n\u001b[0;32m     15\u001b[0m \u001b[0mprint\u001b[0m\u001b[1;33m(\u001b[0m\u001b[0mperson\u001b[0m\u001b[1;33m[\u001b[0m\u001b[1;34m'skills'\u001b[0m\u001b[1;33m]\u001b[0m\u001b[1;33m)\u001b[0m     \u001b[1;31m# ['HTML','CSS','JavaScript', 'React', 'Node', 'MongoDB', 'Python']\u001b[0m\u001b[1;33m\u001b[0m\u001b[1;33m\u001b[0m\u001b[0m\n\u001b[1;32m---> 16\u001b[1;33m \u001b[0mprint\u001b[0m\u001b[1;33m(\u001b[0m\u001b[0mperson\u001b[0m\u001b[1;33m[\u001b[0m\u001b[1;34m'city'\u001b[0m\u001b[1;33m]\u001b[0m\u001b[1;33m)\u001b[0m       \u001b[1;31m# Error\u001b[0m\u001b[1;33m\u001b[0m\u001b[1;33m\u001b[0m\u001b[0m\n\u001b[0m",
      "\u001b[1;31mKeyError\u001b[0m: 'city'"
     ]
    }
   ],
   "source": [
    "person = {\n",
    "    'first_name':'Asabeneh',\n",
    "    'last_name':'Yetayeh',\n",
    "    'age':250,\n",
    "    'country':'Finland',\n",
    "    'is_marred':True,\n",
    "    'skills':['JavaScript', 'React', 'Node', 'MongoDB', 'Python'],\n",
    "    'address':{\n",
    "        'street':'Space street',\n",
    "        'zipcode':'02210'\n",
    "    }\n",
    "    }\n",
    "print(person['first_name']) # Asabeneh\n",
    "print(person['country'])    # Finland\n",
    "print(person['skills'])     # ['HTML','CSS','JavaScript', 'React', 'Node', 'MongoDB', 'Python']\n",
    "print(person['city'])       # Error # we can use get method to avoid the error.Get method used to return none objects for those varibales are not present "
   ]
  },
  {
   "cell_type": "code",
   "execution_count": 108,
   "metadata": {},
   "outputs": [
    {
     "name": "stdout",
     "output_type": "stream",
     "text": [
      "Asabeneh\n",
      "Finland\n",
      "['JavaScript', 'React', 'Node', 'MongoDB', 'Python']\n",
      "None\n"
     ]
    }
   ],
   "source": [
    "person = {\n",
    "    'first_name':'Asabeneh',\n",
    "    'last_name':'Yetayeh',\n",
    "    'age':250,\n",
    "    'country':'Finland',\n",
    "    'is_marred':True,\n",
    "    'skills':['JavaScript', 'React', 'Node', 'MongoDB', 'Python'],\n",
    "    'address':{\n",
    "        'street':'Space street',\n",
    "        'zipcode':'02210'\n",
    "    }\n",
    "    }\n",
    "print(person.get('first_name')) # Asabeneh\n",
    "print(person.get('country'))    # Finland\n",
    "print(person.get('skills')) #['HTML','CSS','JavaScript', 'React', 'Node', 'MongoDB', 'Python']\n",
    "print(person.get('city'))   # None"
   ]
  },
  {
   "cell_type": "code",
   "execution_count": 110,
   "metadata": {},
   "outputs": [
    {
     "data": {
      "text/plain": [
       "{'key1': 'item1',\n",
       " 'key2': 'item2',\n",
       " 'key3': 'item3',\n",
       " 'key4': 'item4',\n",
       " 'key5': 'item5'}"
      ]
     },
     "execution_count": 110,
     "metadata": {},
     "output_type": "execute_result"
    }
   ],
   "source": [
    "#adding an item in the dictionary\n",
    "# syntax\n",
    "dct = {'key1':'item1', 'key2':'item2', 'key3':'item3', 'key4':'item4'}\n",
    "dct['key5'] = 'item5'\n",
    "dct"
   ]
  },
  {
   "cell_type": "code",
   "execution_count": 111,
   "metadata": {},
   "outputs": [
    {
     "name": "stdout",
     "output_type": "stream",
     "text": [
      "{'first_name': 'Asabeneh', 'last_name': 'Yetayeh', 'age': 250, 'country': 'Finland', 'is_marred': True, 'skills': ['JavaScript', 'React', 'Node', 'MongoDB', 'Python', 'HTML'], 'address': {'street': 'Space street', 'zipcode': '02210'}, 'job_title': 'Instructor'}\n"
     ]
    }
   ],
   "source": [
    "person = {\n",
    "    'first_name':'Asabeneh',\n",
    "    'last_name':'Yetayeh',\n",
    "    'age':250,\n",
    "    'country':'Finland',\n",
    "    'is_marred':True,\n",
    "    'skills':['JavaScript', 'React', 'Node', 'MongoDB', 'Python'],\n",
    "    'address':{\n",
    "        'street':'Space street',\n",
    "        'zipcode':'02210'\n",
    "        }\n",
    "}\n",
    "person['job_title'] = 'Instructor'\n",
    "person['skills'].append('HTML')\n",
    "print(person)"
   ]
  },
  {
   "cell_type": "code",
   "execution_count": 113,
   "metadata": {},
   "outputs": [
    {
     "data": {
      "text/plain": [
       "{'key1': 'item-one', 'key2': 'item2', 'key3': 'item3', 'key4': 'item4'}"
      ]
     },
     "execution_count": 113,
     "metadata": {},
     "output_type": "execute_result"
    }
   ],
   "source": [
    "#modifying an item in the dictionary\n",
    "# syntax\n",
    "dct = {'key1':'item1', 'key2':'item2', 'key3':'item3', 'key4':'item4'}\n",
    "dct['key1'] = 'item-one'\n",
    "dct"
   ]
  },
  {
   "cell_type": "code",
   "execution_count": 114,
   "metadata": {},
   "outputs": [
    {
     "data": {
      "text/plain": [
       "250"
      ]
     },
     "execution_count": 114,
     "metadata": {},
     "output_type": "execute_result"
    }
   ],
   "source": [
    "person = {\n",
    "    'first_name':'Asabeneh',\n",
    "    'last_name':'Yetayeh',\n",
    "    'age':250,\n",
    "    'country':'Finland',\n",
    "    'is_marred':True,\n",
    "    'skills':['JavaScript', 'React', 'Node', 'MongoDB', 'Python'],\n",
    "    'address':{\n",
    "        'street':'Space street',\n",
    "        'zipcode':'02210'\n",
    "    }\n",
    "    }\n",
    "person['first_name'] = 'Eyob'\n",
    "person['age']"
   ]
  },
  {
   "cell_type": "code",
   "execution_count": 115,
   "metadata": {},
   "outputs": [
    {
     "name": "stdout",
     "output_type": "stream",
     "text": [
      "True\n",
      "False\n"
     ]
    }
   ],
   "source": [
    "#checking key in the dictionary\n",
    "#use in operator to check if key exists in dictionary\n",
    "\n",
    "# syntax\n",
    "dct = {'key1':'item1', 'key2':'item2', 'key3':'item3', 'key4':'item4'}\n",
    "print('key2' in dct) # True\n",
    "print('key5' in dct) # False"
   ]
  },
  {
   "cell_type": "markdown",
   "metadata": {},
   "source": [
    "Removing key items from dictionary\n",
    "pop(key): removes the item with the specified key name:\n",
    "popitem(): remove the last time\n",
    "del: removes the item with the specified key name"
   ]
  },
  {
   "cell_type": "code",
   "execution_count": 117,
   "metadata": {},
   "outputs": [],
   "source": [
    "# syntax\n",
    "dct = {'key1':'item1', 'key2':'item2', 'key3':'item3', 'key4':'item4'}\n",
    "dct.pop('key1') # the first key pair removed\n",
    "dct = {'key1':'item1', 'key2':'item2', 'key3':'item3', 'key4':'item4'}\n",
    "dct.popitem() # remove the last item\n",
    "del dct['key2'] # remove key 2 item"
   ]
  },
  {
   "cell_type": "code",
   "execution_count": 119,
   "metadata": {},
   "outputs": [],
   "source": [
    "person = {\n",
    "    'first_name':'Asabeneh',\n",
    "    'last_name':'Yetayeh',\n",
    "    'age':250,\n",
    "    'country':'Finland',\n",
    "    'is_married':True,\n",
    "    'skills':['JavaScript', 'React', 'Node', 'MongoDB', 'Python'],\n",
    "    'address':{\n",
    "        'street':'Space street',\n",
    "        'zipcode':'02210'\n",
    "    }\n",
    "    }\n",
    "person.pop('first_name')        # Remove the firstname item\n",
    "person.popitem()                # Remove the lastname item\n",
    "del person['is_married']        # Remove the is_married item"
   ]
  },
  {
   "cell_type": "code",
   "execution_count": 120,
   "metadata": {},
   "outputs": [
    {
     "name": "stdout",
     "output_type": "stream",
     "text": [
      "dict_items([('key1', 'item1'), ('key2', 'item2'), ('key3', 'item3'), ('key4', 'item4')])\n"
     ]
    }
   ],
   "source": [
    "#changing dictionary to list\n",
    "# syntax\n",
    "dct = {'key1':'item1', 'key2':'item2', 'key3':'item3', 'key4':'item4'}\n",
    "print(dct.items()) # dict_items([('key1', 'item1'), ('key2', 'item2'), ('key3', 'item3'), ('key4', 'item4')])"
   ]
  },
  {
   "cell_type": "code",
   "execution_count": 121,
   "metadata": {},
   "outputs": [
    {
     "name": "stdout",
     "output_type": "stream",
     "text": [
      "None\n"
     ]
    }
   ],
   "source": [
    "#clear dict list items\n",
    "\n",
    "# syntax\n",
    "dct = {'key1':'item1', 'key2':'item2', 'key3':'item3', 'key4':'item4'}\n",
    "print(dct.clear()) # {}"
   ]
  },
  {
   "cell_type": "code",
   "execution_count": 122,
   "metadata": {},
   "outputs": [],
   "source": [
    "#delete the dictionary\n",
    "# syntax\n",
    "dct = {'key1':'item1', 'key2':'item2', 'key3':'item3', 'key4':'item4'}\n",
    "del dct"
   ]
  },
  {
   "cell_type": "code",
   "execution_count": 123,
   "metadata": {},
   "outputs": [],
   "source": [
    "#copy dict .  Using copy method we can avoid mutating the dict\n",
    "# syntax\n",
    "dct = {'key1':'item1', 'key2':'item2', 'key3':'item3', 'key4':'item4'}\n",
    "dct_copy = dct.copy() # {'key1':'item1', 'key2':'item2', 'key3':'item3', 'key4':'item4'}"
   ]
  },
  {
   "cell_type": "code",
   "execution_count": 124,
   "metadata": {},
   "outputs": [
    {
     "name": "stdout",
     "output_type": "stream",
     "text": [
      "dict_keys(['key1', 'key2', 'key3', 'key4'])\n"
     ]
    }
   ],
   "source": [
    "#key method gives all the keys of the dictionary\n",
    "\n",
    "# syntax\n",
    "dct = {'key1':'item1', 'key2':'item2', 'key3':'item3', 'key4':'item4'}\n",
    "keys = dct.keys()\n",
    "print(keys)     # dict_keys(['key1', 'key2', 'key3', 'key4'])"
   ]
  },
  {
   "cell_type": "code",
   "execution_count": 125,
   "metadata": {},
   "outputs": [
    {
     "name": "stdout",
     "output_type": "stream",
     "text": [
      "dict_values(['item1', 'item2', 'item3', 'item4'])\n"
     ]
    }
   ],
   "source": [
    "#value method gives all the values of the dictionary\n",
    "# syntax\n",
    "dct = {'key1':'item1', 'key2':'item2', 'key3':'item3', 'key4':'item4'}\n",
    "values = dct.values()\n",
    "print(values)     # dict_values(['item1', 'item2', 'item3', 'item4'])"
   ]
  },
  {
   "cell_type": "code",
   "execution_count": 5,
   "metadata": {},
   "outputs": [
    {
     "name": "stdout",
     "output_type": "stream",
     "text": [
      "THis is odd number\n",
      "negative number\n"
     ]
    }
   ],
   "source": [
    "# DAY 9:\n",
    "# if condition:\n",
    "a=3\n",
    "if a>=0:\n",
    "    print(\"THis is odd number\")\n",
    "    \n",
    "    \n",
    "a=3\n",
    "print(\"positive number\") if a<0 else print(\"negative number\")"
   ]
  },
  {
   "cell_type": "code",
   "execution_count": 4,
   "metadata": {},
   "outputs": [
    {
     "name": "stdout",
     "output_type": "stream",
     "text": [
      "even number\n"
     ]
    }
   ],
   "source": [
    "# if else\n",
    "a=5\n",
    "if a<5:\n",
    "    print(\"Odd number\")\n",
    "else:\n",
    "    print(\"even number\")"
   ]
  },
  {
   "cell_type": "code",
   "execution_count": 6,
   "metadata": {},
   "outputs": [
    {
     "name": "stdout",
     "output_type": "stream",
     "text": [
      "A is zero\n"
     ]
    }
   ],
   "source": [
    "# nested conditions\n",
    "\n",
    "a = 0\n",
    "if a > 0:\n",
    "    if a % 2 == 0:\n",
    "        print('A is a positive and even integer')\n",
    "    else:\n",
    "        print('A is a positive number')\n",
    "elif a == 0:\n",
    "    print('A is zero')\n",
    "else:\n",
    "    print('A is a negative number')"
   ]
  },
  {
   "cell_type": "code",
   "execution_count": 9,
   "metadata": {},
   "outputs": [
    {
     "name": "stdout",
     "output_type": "stream",
     "text": [
      "A is zero\n"
     ]
    }
   ],
   "source": [
    "a = 0\n",
    "if a > 0 and a % 2 == 0:\n",
    "        print('A is an even and positive integer')\n",
    "elif a > 0 and a % 2!= 0:\n",
    "     print('A is a positive integer')\n",
    "elif a == 0:\n",
    "    print('A is zero')\n",
    "else:\n",
    "    print('A is negative')"
   ]
  },
  {
   "cell_type": "code",
   "execution_count": 10,
   "metadata": {},
   "outputs": [
    {
     "name": "stdout",
     "output_type": "stream",
     "text": [
      "Access denied!\n"
     ]
    }
   ],
   "source": [
    "user = 'James'\n",
    "access_level = 3\n",
    "if user == 'admin' or access_level >= 4:\n",
    "        print('Access granted!')\n",
    "else:\n",
    "    print('Access denied!')"
   ]
  },
  {
   "cell_type": "code",
   "execution_count": 1,
   "metadata": {},
   "outputs": [
    {
     "name": "stdout",
     "output_type": "stream",
     "text": [
      "0\n",
      "1\n",
      "2\n",
      "3\n",
      "4\n"
     ]
    }
   ],
   "source": [
    "# Day 1-Loop\n",
    "\n",
    "#while\n",
    "\n",
    "count = 0\n",
    "while count < 5:\n",
    "    print(count)\n",
    "    count = count + 1"
   ]
  },
  {
   "cell_type": "code",
   "execution_count": 2,
   "metadata": {},
   "outputs": [
    {
     "name": "stdout",
     "output_type": "stream",
     "text": [
      "0\n",
      "1\n",
      "2\n",
      "3\n",
      "4\n",
      "5\n"
     ]
    }
   ],
   "source": [
    "count = 0\n",
    "while count < 5:\n",
    "    print(count)\n",
    "    count = count + 1\n",
    "else:\n",
    "    print(count)"
   ]
  },
  {
   "cell_type": "code",
   "execution_count": 3,
   "metadata": {},
   "outputs": [
    {
     "name": "stdout",
     "output_type": "stream",
     "text": [
      "0\n",
      "1\n",
      "2\n"
     ]
    }
   ],
   "source": [
    "count = 0\n",
    "while count < 5:\n",
    "    print(count)\n",
    "    count = count + 1\n",
    "    if count == 3:\n",
    "        break"
   ]
  },
  {
   "cell_type": "code",
   "execution_count": null,
   "metadata": {},
   "outputs": [
    {
     "name": "stdout",
     "output_type": "stream",
     "text": [
      "0\n",
      "1\n",
      "2\n"
     ]
    }
   ],
   "source": [
    "count = 0\n",
    "while count < 5:\n",
    "    if count == 3:\n",
    "        continue\n",
    "    print(count)\n",
    "    count = count + 1\n"
   ]
  },
  {
   "cell_type": "code",
   "execution_count": 1,
   "metadata": {},
   "outputs": [
    {
     "name": "stdout",
     "output_type": "stream",
     "text": [
      "0\n",
      "1\n",
      "2\n",
      "3\n",
      "4\n",
      "5\n"
     ]
    }
   ],
   "source": [
    "numbers = [0, 1, 2, 3, 4, 5]\n",
    "for number in numbers: # number is temporary name to refer to the list's items, valid only inside this loop\n",
    "    print(number) "
   ]
  },
  {
   "cell_type": "code",
   "execution_count": 2,
   "metadata": {},
   "outputs": [
    {
     "name": "stdout",
     "output_type": "stream",
     "text": [
      "P\n",
      "y\n",
      "t\n",
      "h\n",
      "o\n",
      "n\n"
     ]
    }
   ],
   "source": [
    "language = 'Python'\n",
    "for letter in language:\n",
    "    print(letter)"
   ]
  },
  {
   "cell_type": "code",
   "execution_count": 3,
   "metadata": {},
   "outputs": [
    {
     "name": "stdout",
     "output_type": "stream",
     "text": [
      "0\n",
      "1\n",
      "2\n",
      "3\n",
      "4\n",
      "5\n"
     ]
    }
   ],
   "source": [
    "numbers = (0,1,2,3,4,5)\n",
    "for number in numbers:\n",
    "    print(number)"
   ]
  },
  {
   "cell_type": "code",
   "execution_count": 4,
   "metadata": {},
   "outputs": [
    {
     "name": "stdout",
     "output_type": "stream",
     "text": [
      "first_name\n",
      "last_name\n",
      "age\n",
      "country\n",
      "is_marred\n",
      "skills\n",
      "address\n",
      "first_name Asabeneh\n",
      "last_name Yetayeh\n",
      "age 250\n",
      "country Finland\n",
      "is_marred True\n",
      "skills ['JavaScript', 'React', 'Node', 'MongoDB', 'Python']\n",
      "address {'street': 'Space street', 'zipcode': '02210'}\n"
     ]
    }
   ],
   "source": [
    "person = {\n",
    "    'first_name':'Asabeneh',\n",
    "    'last_name':'Yetayeh',\n",
    "    'age':250,\n",
    "    'country':'Finland',\n",
    "    'is_marred':True,\n",
    "    'skills':['JavaScript', 'React', 'Node', 'MongoDB', 'Python'],\n",
    "    'address':{\n",
    "        'street':'Space street',\n",
    "        'zipcode':'02210'\n",
    "    }\n",
    "}\n",
    "for key in person:\n",
    "    print(key)\n",
    "\n",
    "for key, value in person.items():\n",
    "    print(key, value) # this way we get both keys and values printed out\n"
   ]
  },
  {
   "cell_type": "code",
   "execution_count": 5,
   "metadata": {},
   "outputs": [
    {
     "name": "stdout",
     "output_type": "stream",
     "text": [
      "Google\n",
      "Microsoft\n",
      "IBM\n",
      "Facebook\n",
      "Apple\n",
      "Amazon\n",
      "Oracle\n"
     ]
    }
   ],
   "source": [
    "it_companies = {'Facebook', 'Google', 'Microsoft', 'Apple', 'IBM', 'Oracle', 'Amazon'}\n",
    "for company in it_companies:\n",
    "    print(company)"
   ]
  },
  {
   "cell_type": "code",
   "execution_count": 6,
   "metadata": {},
   "outputs": [
    {
     "name": "stdout",
     "output_type": "stream",
     "text": [
      "0\n",
      "1\n",
      "2\n",
      "3\n"
     ]
    }
   ],
   "source": [
    "numbers = (0,1,2,3,4,5)\n",
    "for number in numbers:\n",
    "    print(number)\n",
    "    if number == 3:\n",
    "        break"
   ]
  },
  {
   "cell_type": "code",
   "execution_count": 7,
   "metadata": {},
   "outputs": [
    {
     "name": "stdout",
     "output_type": "stream",
     "text": [
      "0\n",
      "Next number should be  1\n",
      "1\n",
      "Next number should be  2\n",
      "2\n",
      "Next number should be  3\n",
      "3\n",
      "4\n",
      "Next number should be  5\n",
      "5\n",
      "loop's end\n",
      "outside the loop\n"
     ]
    }
   ],
   "source": [
    "numbers = (0,1,2,3,4,5)\n",
    "for number in numbers:\n",
    "    print(number)\n",
    "    if number == 3:\n",
    "        continue\n",
    "    print('Next number should be ', number + 1) if number != 5 else print(\"loop's end\") # for short hand conditions need both if and else statements\n",
    "print('outside the loop')"
   ]
  },
  {
   "cell_type": "code",
   "execution_count": 8,
   "metadata": {},
   "outputs": [
    {
     "name": "stdout",
     "output_type": "stream",
     "text": [
      "[0, 1, 2, 3, 4, 5, 6, 7, 8, 9, 10]\n",
      "{1, 2, 3, 4, 5, 6, 7, 8, 9, 10}\n",
      "[0, 2, 4, 6, 8, 10]\n",
      "{0, 2, 4, 6, 8, 10}\n"
     ]
    }
   ],
   "source": [
    "#range function\n",
    "\n",
    "lst = list(range(11)) \n",
    "print(lst) # [0, 1, 2, 3, 4, 5, 6, 7, 8, 9, 10]\n",
    "st = set(range(1, 11))    # 2 arguments indicate start and end of the sequence, step set to default 1\n",
    "print(st) # {1, 2, 3, 4, 5, 6, 7, 8, 9, 10}\n",
    "\n",
    "lst = list(range(0,11,2))\n",
    "print(lst) # [0, 2, 4, 6, 8, 10]\n",
    "st = set(range(0,11,2))\n",
    "print(st) #  {0, 2, 4, 6, 8, 10}"
   ]
  },
  {
   "cell_type": "code",
   "execution_count": 9,
   "metadata": {},
   "outputs": [
    {
     "name": "stdout",
     "output_type": "stream",
     "text": [
      "JavaScript\n",
      "React\n",
      "Node\n",
      "MongoDB\n",
      "Python\n"
     ]
    }
   ],
   "source": [
    "person = {\n",
    "    'first_name': 'Asabeneh',\n",
    "    'last_name': 'Yetayeh',\n",
    "    'age': 250,\n",
    "    'country': 'Finland',\n",
    "    'is_marred': True,\n",
    "    'skills': ['JavaScript', 'React', 'Node', 'MongoDB', 'Python'],\n",
    "    'address': {\n",
    "        'street': 'Space street',\n",
    "        'zipcode': '02210'\n",
    "    }\n",
    "}\n",
    "for key in person:\n",
    "    if key == 'skills':\n",
    "        for skill in person['skills']:\n",
    "            print(skill)"
   ]
  },
  {
   "cell_type": "code",
   "execution_count": 10,
   "metadata": {},
   "outputs": [
    {
     "name": "stdout",
     "output_type": "stream",
     "text": [
      "0\n",
      "1\n",
      "2\n",
      "3\n",
      "4\n",
      "5\n",
      "6\n",
      "7\n",
      "8\n",
      "9\n",
      "10\n",
      "The loop stops at 10\n"
     ]
    }
   ],
   "source": [
    "for number in range(11):\n",
    "    print(number)   # prints 0 to 10, not including 11\n",
    "else:\n",
    "    print('The loop stops at', number)"
   ]
  },
  {
   "cell_type": "code",
   "execution_count": 11,
   "metadata": {},
   "outputs": [
    {
     "name": "stdout",
     "output_type": "stream",
     "text": [
      "Asabeneh Yetayeh\n",
      "5\n"
     ]
    }
   ],
   "source": [
    "# Day 11 Functions:\n",
    "\n",
    "def generate_full_name ():\n",
    "    first_name = 'Asabeneh'\n",
    "    last_name = 'Yetayeh'\n",
    "    space = ' '\n",
    "    full_name = first_name + space + last_name\n",
    "    print(full_name)\n",
    "generate_full_name () # calling a function\n",
    "\n",
    "def add_two_numbers ():\n",
    "    num_one = 2\n",
    "    num_two = 3\n",
    "    total = num_one + num_two\n",
    "    print(total)\n",
    "add_two_numbers()"
   ]
  },
  {
   "cell_type": "code",
   "execution_count": 12,
   "metadata": {},
   "outputs": [
    {
     "name": "stdout",
     "output_type": "stream",
     "text": [
      "Asabeneh, welcome to Python for Everyone!\n",
      "100\n",
      "4\n",
      "314.0\n",
      "55\n",
      "5050\n"
     ]
    }
   ],
   "source": [
    "#Single parameter\n",
    "\n",
    "def greetings (name):\n",
    "    message = name + ', welcome to Python for Everyone!'\n",
    "    return message\n",
    "\n",
    "print(greetings('Asabeneh'))\n",
    "\n",
    "def add_ten(num):\n",
    "    ten = 10\n",
    "    return num + ten\n",
    "print(add_ten(90))\n",
    "\n",
    "def square_number(x):\n",
    "    return x * x\n",
    "print(square_number(2))\n",
    "\n",
    "def area_of_circle (r):\n",
    "    PI = 3.14\n",
    "    area = PI * r ** 2\n",
    "    return area\n",
    "print(area_of_circle(10))\n",
    "\n",
    "def sum_of_numbers(n):\n",
    "    total = 0\n",
    "    for i in range(n+1):\n",
    "        total+=i\n",
    "    print(total)\n",
    "sum_of_numbers(10) # 55\n",
    "sum_of_numbers(100) # 5050"
   ]
  },
  {
   "cell_type": "code",
   "execution_count": 15,
   "metadata": {},
   "outputs": [
    {
     "name": "stdout",
     "output_type": "stream",
     "text": [
      "Full Name:  Asabeneh Yetayeh\n",
      "Sum of two numbers:  10\n",
      "Age:  200\n",
      "Weight of an object in Newtons:  981.0 N\n"
     ]
    }
   ],
   "source": [
    "#multiple parameter\n",
    "\n",
    "def generate_full_name (first_name, last_name):\n",
    "    space = ' '\n",
    "    full_name = first_name + space + last_name\n",
    "    return full_name\n",
    "print('Full Name: ', generate_full_name('Asabeneh','Yetayeh'))\n",
    "\n",
    "def sum_two_numbers (num_one, num_two):\n",
    "    sum = num_one + num_two\n",
    "    return sum\n",
    "print('Sum of two numbers: ', sum_two_numbers(1, 9))\n",
    "\n",
    "def calculate_age (current_year, birth_year):\n",
    "    age = current_year - birth_year\n",
    "    return age;\n",
    "\n",
    "print('Age: ', calculate_age(2019, 1819))\n",
    "\n",
    "def weight_of_object (mass, gravity):\n",
    "    weight = str(mass * gravity)+ ' N' # the value has to be changed to a string first\n",
    "    return weight\n",
    "print('Weight of an object in Newtons: ', weight_of_object(100, 9.81))"
   ]
  },
  {
   "cell_type": "code",
   "execution_count": 16,
   "metadata": {},
   "outputs": [
    {
     "name": "stdout",
     "output_type": "stream",
     "text": [
      "Asabeneh Yetayeh\n",
      "5\n"
     ]
    }
   ],
   "source": [
    "def print_fullname(firstname, lastname):\n",
    "    space = ' '\n",
    "    full_name = firstname  + space + lastname\n",
    "    print(full_name)\n",
    "print_fullname(firstname='Asabeneh', lastname='Yetayeh')\n",
    "\n",
    "def add_two_numbers (num1, num2):\n",
    "    total = num1 + num2\n",
    "    print(total)\n",
    "add_two_numbers(num2=3, num1=2) # Order does not matter"
   ]
  },
  {
   "cell_type": "code",
   "execution_count": 17,
   "metadata": {},
   "outputs": [
    {
     "name": "stdout",
     "output_type": "stream",
     "text": [
      "5\n",
      "Age:  200\n"
     ]
    }
   ],
   "source": [
    "def add_two_numbers (num1, num2):\n",
    "    total = num1 + num2\n",
    "    return total\n",
    "print(add_two_numbers(2, 3))\n",
    "\n",
    "def calculate_age (current_year, birth_year):\n",
    "    age = current_year - birth_year\n",
    "    return age;\n",
    "print('Age: ', calculate_age(2019, 1819))"
   ]
  },
  {
   "cell_type": "code",
   "execution_count": 18,
   "metadata": {},
   "outputs": [
    {
     "name": "stdout",
     "output_type": "stream",
     "text": [
      "Peter, welcome to Python for Everyone!\n",
      "Asabeneh, welcome to Python for Everyone!\n",
      "Asabeneh Yetayeh\n",
      "David Smith\n",
      "Age:  200\n",
      "Weight of an object in Newtons:  981.0 N\n",
      "Weight of an object in Newtons:  162.0 N\n"
     ]
    }
   ],
   "source": [
    "def greetings (name = 'Peter'):\n",
    "    message = name + ', welcome to Python for Everyone!'\n",
    "    return message\n",
    "print(greetings())\n",
    "print(greetings('Asabeneh'))\n",
    "\n",
    "def generate_full_name (first_name = 'Asabeneh', last_name = 'Yetayeh'):\n",
    "    space = ' '\n",
    "    full_name = first_name + space + last_name\n",
    "    return full_name\n",
    "\n",
    "print(generate_full_name())\n",
    "print(generate_full_name('David','Smith'))\n",
    "\n",
    "def calculate_age (birth_year,current_year = 2019):\n",
    "    age = current_year - birth_year\n",
    "    return age;\n",
    "print('Age: ', calculate_age(1819))\n",
    "\n",
    "def weight_of_object (mass, gravity = 9.81):\n",
    "    weight = str(mass * gravity)+ ' N' # the value has to be changed to string first\n",
    "    return weight\n",
    "print('Weight of an object in Newtons: ', weight_of_object(100)) # 9.81 - average gravity on Earth's surface\n",
    "print('Weight of an object in Newtons: ', weight_of_object(100, 1.62)) # gravity on the surface of the Moon"
   ]
  },
  {
   "cell_type": "code",
   "execution_count": 19,
   "metadata": {},
   "outputs": [
    {
     "name": "stdout",
     "output_type": "stream",
     "text": [
      "10\n"
     ]
    }
   ],
   "source": [
    "#arbirary no of arguments\n",
    "def sum_all_nums(*nums):\n",
    "    total = 0\n",
    "    for num in nums:\n",
    "        total += num     # same as total = total + num \n",
    "    return total\n",
    "print(sum_all_nums(2, 3, 5))"
   ]
  },
  {
   "cell_type": "code",
   "execution_count": 20,
   "metadata": {},
   "outputs": [
    {
     "name": "stdout",
     "output_type": "stream",
     "text": [
      "9\n"
     ]
    }
   ],
   "source": [
    "#You can pass functions around as parameters\n",
    "def square_number (n):\n",
    "    return n * n\n",
    "def do_something(f, x):\n",
    "    return f(x)\n",
    "print(do_something(square_number, 3))"
   ]
  },
  {
   "cell_type": "code",
   "execution_count": 8,
   "metadata": {},
   "outputs": [
    {
     "name": "stdout",
     "output_type": "stream",
     "text": [
      "<class 'list'>\n",
      "['P', 'y', 't', 'h', 'o', 'n']\n"
     ]
    }
   ],
   "source": [
    "#List comprehension\n",
    "\n",
    "# Second way: list comprehension\n",
    "\n",
    "language = 'Python'\n",
    "lst = [i for i in language]\n",
    "print(type(lst)) # list\n",
    "print(lst)       # ['P', 'y', 't', 'h', 'o', 'n']"
   ]
  },
  {
   "cell_type": "code",
   "execution_count": 9,
   "metadata": {},
   "outputs": [
    {
     "name": "stdout",
     "output_type": "stream",
     "text": [
      "[0, 1, 2, 3, 4, 5, 6, 7, 8, 9, 10]\n",
      "[0, 1, 4, 9, 16, 25, 36, 49, 64, 81, 100]\n",
      "[(0, 0), (1, 1), (2, 4), (3, 9), (4, 16), (5, 25), (6, 36), (7, 49), (8, 64), (9, 81), (10, 100)]\n"
     ]
    }
   ],
   "source": [
    "# Generating numbers\n",
    "numbers = [i for i in range(11)]  # to generate numbers from 0 to 10\n",
    "print(numbers)                    # [0, 1, 2, 3, 4, 5, 6, 7, 8, 9, 10]\n",
    "\n",
    "# It is possible to do mathematical operations during iteration\n",
    "squares = [i * i for i in range(11)]\n",
    "print(squares)                    # [0, 1, 4, 9, 16, 25, 36, 49, 64, 81, 100]\n",
    "\n",
    "# It is also possible to make a list of tuples\n",
    "numbers = [(i, i * i) for i in range(11)]\n",
    "print(numbers) "
   ]
  },
  {
   "cell_type": "code",
   "execution_count": 10,
   "metadata": {},
   "outputs": [
    {
     "name": "stdout",
     "output_type": "stream",
     "text": [
      "[0, 2, 4, 6, 8, 10, 12, 14, 16, 18, 20]\n",
      "[1, 3, 5, 7, 9, 11, 13, 15, 17, 19]\n",
      "[2, 4, 6, 8, 10, 12, 14, 16, 18, 20]\n",
      "[1, 2, 3, 4, 5, 6, 7, 8, 9]\n"
     ]
    }
   ],
   "source": [
    "# list comprehension can be combined with if expression\n",
    "\n",
    "# Generating even numbers\n",
    "even_numbers = [i for i in range(21) if i % 2 == 0]  # to generate even numbers list in range 0 to 21\n",
    "print(even_numbers)                    # [0, 2, 4, 6, 8, 10, 12, 14, 16, 18, 20]\n",
    "\n",
    "# Generating odd numbers\n",
    "odd_numbers = [i for i in range(21) if i % 2 != 0]  # to generate odd numbers in range 0 to 21\n",
    "print(odd_numbers)                      # [1, 3, 5, 7, 9, 11, 13, 15, 17, 19]\n",
    "# Filter numbers: let's filter out positive even numbers from the list below\n",
    "numbers = [-8, -7, -3, -1, 0, 1, 3, 4, 5, 7, 6, 8, 10]\n",
    "positive_even_numbers = [i for i in range(21) if i % 2 == 0 and i > 0]\n",
    "print(positive_even_numbers)                    # [2, 4, 6, 8, 10, 12, 14, 16, 18, 20]\n",
    "\n",
    "# Flattening a three dimensional array\n",
    "three_dimen_list = [[1, 2, 3], [4, 5, 6], [7, 8, 9]]\n",
    "flattened_list = [ number for row in three_dimen_list for number in row]\n",
    "print(flattened_list)    # [1, 2, 3, 4, 5, 6, 7, 8, 9]"
   ]
  },
  {
   "cell_type": "code",
   "execution_count": 11,
   "metadata": {},
   "outputs": [
    {
     "name": "stdout",
     "output_type": "stream",
     "text": [
      "2 3\n",
      "5\n",
      "9\n",
      "27\n",
      "22\n"
     ]
    }
   ],
   "source": [
    "#Lambda function\n",
    "# Named function\n",
    "def add_two_nums(a, b):\n",
    "    return a + b\n",
    "\n",
    "print(2, 3)     # 5\n",
    "# Lets change the above function to a lambda function\n",
    "add_two_nums = lambda a, b: a + b\n",
    "print(add_two_nums(2,3))    # 5\n",
    "\n",
    "# Self invoking lambda function\n",
    "(lambda a, b: a + b)(2,3) # 5 - need to encapsulate it in print() to see the result in the console\n",
    "\n",
    "square = lambda x : x ** 2\n",
    "print(square(3))    # 9\n",
    "cube = lambda x : x ** 3\n",
    "print(cube(3))    # 27\n",
    "\n",
    "# Multiple variables\n",
    "multiple_variable = lambda a, b, c: a ** 2 - 3 * b + 4 * c\n",
    "print(multiple_variable(5, 5, 3))"
   ]
  },
  {
   "cell_type": "code",
   "execution_count": 12,
   "metadata": {},
   "outputs": [
    {
     "name": "stdout",
     "output_type": "stream",
     "text": [
      "8\n",
      "32\n"
     ]
    }
   ],
   "source": [
    "def power(x):\n",
    "    return lambda n : x ** n\n",
    "\n",
    "cube = power(2)(3)   # function power now need 2 arguments to run, in separate rounded brackets\n",
    "print(cube)          # 8\n",
    "two_power_of_five = power(2)(5) \n",
    "print(two_power_of_five)  # 32"
   ]
  },
  {
   "cell_type": "code",
   "execution_count": 13,
   "metadata": {},
   "outputs": [
    {
     "name": "stdout",
     "output_type": "stream",
     "text": [
      "15\n"
     ]
    }
   ],
   "source": [
    "#Day 14 higher order function\n",
    "\n",
    "# Functin as a parameter\n",
    "def sum_numbers(nums):  # normal function\n",
    "    return sum(nums)    # a sad function abusing the built-in sum function :<\n",
    "\n",
    "def higher_order_function(f, *args):  # function as a parameter\n",
    "    summation = f(*args)\n",
    "    return summation\n",
    "result = higher_order_function(sum_numbers, [1, 2, 3, 4, 5])\n",
    "print(result)       # 15"
   ]
  },
  {
   "cell_type": "code",
   "execution_count": 16,
   "metadata": {},
   "outputs": [
    {
     "name": "stdout",
     "output_type": "stream",
     "text": [
      "15\n",
      "20\n"
     ]
    }
   ],
   "source": [
    "#closure\n",
    "\n",
    "#Python allows a nested function to access the outer scope of the enclosing function.\n",
    "\n",
    "def add_ten():\n",
    "    ten = 10\n",
    "\n",
    "    def add(num):\n",
    "        return num + ten\n",
    "    return add\n",
    "\n",
    "closure_result = add_ten()\n",
    "print(closure_result(5))  # 15\n",
    "print(closure_result(10))  # 20"
   ]
  },
  {
   "cell_type": "code",
   "execution_count": 18,
   "metadata": {},
   "outputs": [
    {
     "name": "stdout",
     "output_type": "stream",
     "text": [
      "WELCOME TO PYTHON\n",
      "WELCOME TO PYTHON\n"
     ]
    }
   ],
   "source": [
    "#Decorators\n",
    "\n",
    "#A decorator is a design pattern in Python that allows a user to add new functionality to an existing object without modifying its structure. \n",
    "#Decorators are usually called before the definition of a function you want to decorate.\n",
    "\n",
    "# Normal function\n",
    "def greeting():\n",
    "    return 'Welcome to Python'\n",
    "def uppercase_decorator(function):\n",
    "    def wrapper():\n",
    "        func = function()\n",
    "        make_uppercase = func.upper()\n",
    "        return make_uppercase\n",
    "    return wrapper\n",
    "g = uppercase_decorator(greeting)\n",
    "print(g())          # WELCOME TO PYTHON\n",
    "\n",
    "## Lets implement the example above with a decorator\n",
    "\n",
    "'''This decorator function is a higher order function\n",
    "that takes a function as a parameter'''\n",
    "def uppercase_decorator(function):\n",
    "    def wrapper():\n",
    "        func = function()\n",
    "        make_uppercase = func.upper()\n",
    "        return make_uppercase\n",
    "    return wrapper\n",
    "@uppercase_decorator\n",
    "def greeting():\n",
    "    return 'Welcome to Python'\n",
    "print(greeting())   # WELCOME TO PYTHON"
   ]
  },
  {
   "cell_type": "code",
   "execution_count": 19,
   "metadata": {},
   "outputs": [
    {
     "name": "stdout",
     "output_type": "stream",
     "text": [
      "['WELCOME', 'TO', 'PYTHON']\n"
     ]
    }
   ],
   "source": [
    "#Applying dcorator to a single function\n",
    "\n",
    "'''These decorator functions are higher order functions\n",
    "that take functions as parameters'''\n",
    "\n",
    "# First Decorator\n",
    "def uppercase_decorator(function):\n",
    "    def wrapper():\n",
    "        func = function()\n",
    "        make_uppercase = func.upper()\n",
    "        return make_uppercase\n",
    "    return wrapper\n",
    "# Second decorator\n",
    "def split_string_decorator(function):\n",
    "    def wrapper():\n",
    "        func = function()\n",
    "        splitted_string = func.split()\n",
    "        return splitted_string\n",
    "\n",
    "    return wrapper\n",
    "\n",
    "@split_string_decorator\n",
    "@uppercase_decorator     # order with decorators is important in this case - .upper() function does not work with lists\n",
    "\n",
    "def greeting():\n",
    "    return 'Welcome to Python'\n",
    "print(greeting())   # WELCOME TO PYTHON"
   ]
  },
  {
   "cell_type": "code",
   "execution_count": 20,
   "metadata": {},
   "outputs": [
    {
     "name": "stdout",
     "output_type": "stream",
     "text": [
      "I am Asabeneh Yetayeh. I love to teach.\n",
      "I live in Finland\n"
     ]
    }
   ],
   "source": [
    "def decorator_with_parameters(function):\n",
    "    def wrapper_accepting_parameters(para1, para2, para3):\n",
    "        function(para1, para2, para3)\n",
    "        print(\"I live in {}\".format(para3))\n",
    "    return wrapper_accepting_parameters\n",
    "\n",
    "@decorator_with_parameters\n",
    "def print_full_name(first_name, last_name, country):\n",
    "    print(\"I am {} {}. I love to teach.\".format(\n",
    "        first_name, last_name, country))\n",
    "\n",
    "print_full_name(\"Asabeneh\", \"Yetayeh\",'Finland')"
   ]
  },
  {
   "cell_type": "code",
   "execution_count": 21,
   "metadata": {},
   "outputs": [
    {
     "name": "stdout",
     "output_type": "stream",
     "text": [
      "[1, 4, 9, 16, 25]\n",
      "[1, 4, 9, 16, 25]\n"
     ]
    }
   ],
   "source": [
    "#map function\n",
    "numbers = [1, 2, 3, 4, 5] # iterable\n",
    "def square(x):\n",
    "    return x ** 2\n",
    "numbers_squared = map(square, numbers)\n",
    "print(list(numbers_squared))    # [1, 4, 9, 16, 25]\n",
    "# Lets apply it with a lambda function\n",
    "numbers_squared = map(lambda x : x ** 2, numbers)\n",
    "print(list(numbers_squared))    # [1, 4, 9, 16, 25]"
   ]
  },
  {
   "cell_type": "code",
   "execution_count": 22,
   "metadata": {},
   "outputs": [
    {
     "name": "stdout",
     "output_type": "stream",
     "text": [
      "[1, 2, 3, 4, 5]\n"
     ]
    }
   ],
   "source": [
    "numbers_str = ['1', '2', '3', '4', '5']  # iterable\n",
    "numbers_int = map(int, numbers_str)\n",
    "print(list(numbers_int))    # [1, 2, 3, 4, 5]"
   ]
  },
  {
   "cell_type": "code",
   "execution_count": 23,
   "metadata": {},
   "outputs": [
    {
     "name": "stdout",
     "output_type": "stream",
     "text": [
      "['ASABENEH', 'LIDIYA', 'ERMIAS', 'ABRAHAM']\n",
      "['ASABENEH', 'LIDIYA', 'ERMIAS', 'ABRAHAM']\n"
     ]
    }
   ],
   "source": [
    "names = ['Asabeneh', 'Lidiya', 'Ermias', 'Abraham']  # iterable\n",
    "\n",
    "def change_to_upper(name):\n",
    "    return name.upper()\n",
    "\n",
    "names_upper_cased = map(change_to_upper, names)\n",
    "print(list(names_upper_cased))    # ['ASABENEH', 'LIDIYA', 'ERMIAS', 'ABRAHAM']\n",
    "\n",
    "# Lets apply it with a lambda function\n",
    "names_upper_cased = map(lambda name: name.upper(), names)\n",
    "print(list(names_upper_cased))    # ['ASABENEH', 'LIDIYA', 'ERMIAS', 'ABRAHAM']"
   ]
  },
  {
   "cell_type": "code",
   "execution_count": 25,
   "metadata": {},
   "outputs": [
    {
     "name": "stdout",
     "output_type": "stream",
     "text": [
      "[2, 4]\n"
     ]
    }
   ],
   "source": [
    "#Python filter function\n",
    "num=[1,2,3,4,5]\n",
    "def is_even(n):\n",
    "    if n%2==0:\n",
    "        return True\n",
    "    return False\n",
    "even_numbers=filter(is_even,num)\n",
    "print(list(even_numbers))"
   ]
  },
  {
   "cell_type": "code",
   "execution_count": 26,
   "metadata": {},
   "outputs": [
    {
     "name": "stdout",
     "output_type": "stream",
     "text": [
      "[1, 3, 5]\n"
     ]
    }
   ],
   "source": [
    "numbers = [1, 2, 3, 4, 5]  # iterable\n",
    "\n",
    "def is_odd(num):\n",
    "    if num % 2 != 0:\n",
    "        return True\n",
    "    return False\n",
    "\n",
    "odd_numbers = filter(is_odd, numbers)\n",
    "print(list(odd_numbers))       # [1, 3, 5]"
   ]
  },
  {
   "cell_type": "code",
   "execution_count": 27,
   "metadata": {},
   "outputs": [
    {
     "name": "stdout",
     "output_type": "stream",
     "text": [
      "['Asabeneh']\n"
     ]
    }
   ],
   "source": [
    "# Filter long name\n",
    "names = ['Asabeneh', 'Lidiya', 'Ermias', 'Abraham']  # iterable\n",
    "def is_name_long(name):\n",
    "    if len(name) > 7:\n",
    "        return True\n",
    "    return False\n",
    "\n",
    "long_names = filter(is_name_long, names)\n",
    "print(list(long_names))         # ['Asabeneh']"
   ]
  },
  {
   "cell_type": "code",
   "execution_count": 38,
   "metadata": {},
   "outputs": [
    {
     "name": "stdout",
     "output_type": "stream",
     "text": [
      "15\n"
     ]
    }
   ],
   "source": [
    "#reduce\n",
    "from functools import reduce\n",
    "num_str=['1','2','3','4','5']\n",
    "def add(x,y):\n",
    "    return int(x)+int(y)\n",
    "    \n",
    "total=reduce(add,num_str)\n",
    "print(total) "
   ]
  },
  {
   "cell_type": "code",
   "execution_count": 39,
   "metadata": {},
   "outputs": [
    {
     "name": "stdout",
     "output_type": "stream",
     "text": [
      "['MAXYEAR', 'MINYEAR', '__builtins__', '__cached__', '__doc__', '__file__', '__loader__', '__name__', '__package__', '__spec__', 'date', 'datetime', 'datetime_CAPI', 'sys', 'time', 'timedelta', 'timezone', 'tzinfo']\n"
     ]
    },
    {
     "data": {
      "text/plain": [
       "['MAXYEAR',\n",
       " 'MINYEAR',\n",
       " '__builtins__',\n",
       " '__cached__',\n",
       " '__doc__',\n",
       " '__file__',\n",
       " '__loader__',\n",
       " '__name__',\n",
       " '__package__',\n",
       " '__spec__',\n",
       " 'date',\n",
       " 'datetime',\n",
       " 'datetime_CAPI',\n",
       " 'sys',\n",
       " 'time',\n",
       " 'timedelta',\n",
       " 'timezone',\n",
       " 'tzinfo']"
      ]
     },
     "execution_count": 39,
     "metadata": {},
     "output_type": "execute_result"
    }
   ],
   "source": [
    "#Day 16\n",
    "# Python Datetime\n",
    "import datetime\n",
    "print(dir(datetime))\n",
    "['MAXYEAR', 'MINYEAR', '__builtins__', '__cached__', '__doc__', '__file__', '__loader__', '__name__', '__package__', '__spec__', 'date', 'datetime', 'datetime_CAPI', 'sys', 'time', 'timedelta', 'timezone', 'tzinfo']\n"
   ]
  },
  {
   "cell_type": "code",
   "execution_count": 40,
   "metadata": {},
   "outputs": [
    {
     "name": "stdout",
     "output_type": "stream",
     "text": [
      "2020-05-16 17:55:08.828131\n",
      "16 5 2020 17 55\n",
      "timestamp 1589631908.828131\n",
      "16/5/2020, 17:55\n"
     ]
    }
   ],
   "source": [
    "#Datetime information\n",
    "from datetime import datetime\n",
    "now = datetime.now()\n",
    "print(now)                      # 2019-12-04 23:34:46.549883\n",
    "day = now.day                   # 4\n",
    "month = now.month               # 12\n",
    "year = now.year                 # 2019\n",
    "hour = now.hour                 # 23\n",
    "minute = now.minute             # 38\n",
    "second = now.second\n",
    "timestamp = now.timestamp()\n",
    "print(day, month, year, hour, minute)\n",
    "print('timestamp', timestamp)\n",
    "print(f'{day}/{month}/{year}, {hour}:{minute}')  # 4/12/2019, 23:38"
   ]
  },
  {
   "cell_type": "code",
   "execution_count": 41,
   "metadata": {},
   "outputs": [
    {
     "name": "stdout",
     "output_type": "stream",
     "text": [
      "2020-01-01 00:00:00\n",
      "1 1 2020 0 0\n",
      "1/1/2020, 0:0\n"
     ]
    }
   ],
   "source": [
    "from datetime import datetime\n",
    "new_year = datetime(2020, 1, 1)\n",
    "print(new_year)      # 2020-01-01 00:00:00\n",
    "day = new_year.day\n",
    "month = new_year.month\n",
    "year = new_year.year\n",
    "hour = new_year.hour\n",
    "minute = new_year.minute\n",
    "second = new_year.second\n",
    "print(day, month, year, hour, minute) #1 1 2020 0 0\n",
    "print(f'{day}/{month}/{year}, {hour}:{minute}')  # 1/1/2020, 0:0"
   ]
  },
  {
   "cell_type": "code",
   "execution_count": 42,
   "metadata": {},
   "outputs": [
    {
     "name": "stdout",
     "output_type": "stream",
     "text": [
      "time: 17:55:49\n",
      "time one: 05/16/2020, 17:55:49\n",
      "time two: 16/05/2020, 17:55:49\n"
     ]
    }
   ],
   "source": [
    "from datetime import datetime\n",
    "# current date and time\n",
    "now = datetime.now()\n",
    "t = now.strftime(\"%H:%M:%S\")\n",
    "print(\"time:\", t)\n",
    "time_one = now.strftime(\"%m/%d/%Y, %H:%M:%S\")\n",
    "# mm/dd/YY H:M:S format\n",
    "print(\"time one:\", time_one)\n",
    "time_two = now.strftime(\"%d/%m/%Y, %H:%M:%S\")\n",
    "# dd/mm/YY H:M:S format\n",
    "print(\"time two:\", time_two)"
   ]
  },
  {
   "cell_type": "code",
   "execution_count": 43,
   "metadata": {},
   "outputs": [
    {
     "name": "stdout",
     "output_type": "stream",
     "text": [
      "date_string = 5 December, 2019\n",
      "date_object = 2019-12-05 00:00:00\n"
     ]
    }
   ],
   "source": [
    "from datetime import datetime\n",
    "date_string = \"5 December, 2019\"\n",
    "print(\"date_string =\", date_string)\n",
    "date_object = datetime.strptime(date_string, \"%d %B, %Y\")\n",
    "print(\"date_object =\", date_object)"
   ]
  },
  {
   "cell_type": "code",
   "execution_count": 44,
   "metadata": {},
   "outputs": [
    {
     "name": "stdout",
     "output_type": "stream",
     "text": [
      "2020-01-01\n",
      "Current date: 2020-05-16\n",
      "Current year: 2020\n",
      "Current month: 5\n",
      "Current day: 16\n"
     ]
    }
   ],
   "source": [
    "from datetime import date\n",
    "d = date(2020, 1, 1)\n",
    "print(d)\n",
    "print('Current date:', d.today())    # 2019-12-05\n",
    "# date object of today's date\n",
    "today = date.today()\n",
    "print(\"Current year:\", today.year)   # 2019\n",
    "print(\"Current month:\", today.month) # 12\n",
    "print(\"Current day:\", today.day)     # 5"
   ]
  },
  {
   "cell_type": "code",
   "execution_count": 45,
   "metadata": {},
   "outputs": [
    {
     "name": "stdout",
     "output_type": "stream",
     "text": [
      "a = 00:00:00\n",
      "b = 10:30:50\n",
      "c = 10:30:50\n",
      "d = 10:30:50.200555\n"
     ]
    }
   ],
   "source": [
    "from datetime import time\n",
    "# time(hour = 0, minute = 0, second = 0)\n",
    "a = time()\n",
    "print(\"a =\", a)\n",
    "# time(hour, minute and second)\n",
    "b = time(10, 30, 50)\n",
    "print(\"b =\", b)\n",
    "# time(hour, minute and second)\n",
    "c = time(hour=10, minute=30, second=50)\n",
    "print(\"c =\", c)\n",
    "# time(hour, minute, second, microsecond)\n",
    "d = time(10, 30, 50, 200555)\n",
    "print(\"d =\", d)"
   ]
  },
  {
   "cell_type": "code",
   "execution_count": 46,
   "metadata": {},
   "outputs": [
    {
     "name": "stdout",
     "output_type": "stream",
     "text": [
      "Time left for new year:  27 days, 0:00:00\n",
      "Time left for new year: 26 days, 23:01:00\n"
     ]
    }
   ],
   "source": [
    "today = date(year=2019, month=12, day=5)\n",
    "new_year = date(year=2020, month=1, day=1)\n",
    "time_left_for_newyear = new_year - today\n",
    "# Time left for new year:  27 days, 0:00:00\n",
    "print('Time left for new year: ', time_left_for_newyear)\n",
    "\n",
    "t1 = datetime(year = 2019, month = 12, day = 5, hour = 0, minute = 59, second = 0)\n",
    "t2 = datetime(year = 2020, month = 1, day = 1, hour = 0, minute = 0, second = 0)\n",
    "diff = t2 - t1\n",
    "print('Time left for new year:', diff) # Time left for new year: 26 days, 23: 01: 00"
   ]
  },
  {
   "cell_type": "code",
   "execution_count": 47,
   "metadata": {},
   "outputs": [
    {
     "name": "stdout",
     "output_type": "stream",
     "text": [
      "t3 = 86 days, 22:56:50\n"
     ]
    }
   ],
   "source": [
    "from datetime import timedelta\n",
    "t1 = timedelta(weeks=12, days=10, hours=4, seconds=20)\n",
    "t2 = timedelta(days=7, hours=5, minutes=3, seconds=30)\n",
    "t3 = t1 - t2\n",
    "print(\"t3 =\", t3)"
   ]
  },
  {
   "cell_type": "code",
   "execution_count": 48,
   "metadata": {},
   "outputs": [
    {
     "name": "stdout",
     "output_type": "stream",
     "text": [
      "Something went wrong\n"
     ]
    }
   ],
   "source": [
    "#Day 17 exception Handling\n",
    "try:\n",
    "    print(10 + '5')\n",
    "except:\n",
    "    print('Something went wrong')"
   ]
  },
  {
   "cell_type": "code",
   "execution_count": 49,
   "metadata": {},
   "outputs": [
    {
     "name": "stdout",
     "output_type": "stream",
     "text": [
      "Enter your name:Parth\n",
      "Year you were born:1994\n",
      "Something went wrong\n"
     ]
    }
   ],
   "source": [
    "try:\n",
    "    name = input('Enter your name:')\n",
    "    year_born = input('Year you were born:')\n",
    "    age = 2019 - year_born\n",
    "\n",
    "    print(f'You are {name}. And your age is {age}.')\n",
    "except:\n",
    "    print('Something went wrong')"
   ]
  },
  {
   "cell_type": "code",
   "execution_count": 50,
   "metadata": {},
   "outputs": [
    {
     "name": "stdout",
     "output_type": "stream",
     "text": [
      "Enter your name:Parth\n",
      "Year you were born:1994\n",
      "Type error occured\n"
     ]
    }
   ],
   "source": [
    "try:\n",
    "    name = input('Enter your name:')\n",
    "    year_born = input('Year you were born:')\n",
    "    age = 2020 - year_born\n",
    "    print(f'You are {name}. And your age is {age}.')\n",
    "except TypeError:\n",
    "    print('Type error occured')\n",
    "except ValueError:\n",
    "    print('Value error occured')\n",
    "except ZeroDivisionError:\n",
    "    print('zero division error occured')"
   ]
  },
  {
   "cell_type": "code",
   "execution_count": 51,
   "metadata": {},
   "outputs": [
    {
     "name": "stdout",
     "output_type": "stream",
     "text": [
      "Enter your name:Parth\n",
      "Year you born:1994\n",
      "You are {name}. And your age is {age}.\n",
      "I usually run with the try block\n",
      "I alway run.\n"
     ]
    }
   ],
   "source": [
    "try:\n",
    "    name = input('Enter your name:')\n",
    "    year_born = input('Year you born:')\n",
    "    age = 2020 - int(year_born)\n",
    "\n",
    "    print('You are {name}. And your age is {age}.')\n",
    "except TypeError:\n",
    "    print('Type error occur')\n",
    "except ValueError:\n",
    "    print('Value error occur')\n",
    "except ZeroDivisionError:\n",
    "    print('zero division error occur')\n",
    "\n",
    "else:\n",
    "    print('I usually run with the try block')\n",
    "finally:\n",
    "    print('I alway run.')"
   ]
  },
  {
   "cell_type": "code",
   "execution_count": 52,
   "metadata": {},
   "outputs": [
    {
     "ename": "TypeError",
     "evalue": "sum_of_five_nums() missing 4 required positional arguments: 'b', 'c', 'd', and 'e'",
     "output_type": "error",
     "traceback": [
      "\u001b[1;31m---------------------------------------------------------------------------\u001b[0m",
      "\u001b[1;31mTypeError\u001b[0m                                 Traceback (most recent call last)",
      "\u001b[1;32m<ipython-input-52-ac4082688dac>\u001b[0m in \u001b[0;36m<module>\u001b[1;34m\u001b[0m\n\u001b[0;32m      4\u001b[0m \u001b[1;33m\u001b[0m\u001b[0m\n\u001b[0;32m      5\u001b[0m \u001b[0mlst\u001b[0m \u001b[1;33m=\u001b[0m \u001b[1;33m[\u001b[0m\u001b[1;36m1\u001b[0m\u001b[1;33m,\u001b[0m\u001b[1;36m2\u001b[0m\u001b[1;33m,\u001b[0m\u001b[1;36m3\u001b[0m\u001b[1;33m,\u001b[0m\u001b[1;36m4\u001b[0m\u001b[1;33m,\u001b[0m\u001b[1;36m5\u001b[0m\u001b[1;33m]\u001b[0m\u001b[1;33m\u001b[0m\u001b[1;33m\u001b[0m\u001b[0m\n\u001b[1;32m----> 6\u001b[1;33m \u001b[0mprint\u001b[0m\u001b[1;33m(\u001b[0m\u001b[0msum_of_five_nums\u001b[0m\u001b[1;33m(\u001b[0m\u001b[0mlst\u001b[0m\u001b[1;33m)\u001b[0m\u001b[1;33m)\u001b[0m \u001b[1;31m# TypeError: sum_of_five_nums() missing 4 required positional arguments: 'b', 'c', 'd', and 'e'\u001b[0m\u001b[1;33m\u001b[0m\u001b[1;33m\u001b[0m\u001b[0m\n\u001b[0m",
      "\u001b[1;31mTypeError\u001b[0m: sum_of_five_nums() missing 4 required positional arguments: 'b', 'c', 'd', and 'e'"
     ]
    }
   ],
   "source": [
    "#unpacking list \n",
    "def sum_of_five_nums(a, b, c, d, e):\n",
    "    return a + b + c + d + e\n",
    "\n",
    "lst = [1,2,3,4,5]\n",
    "print(sum_of_five_nums(lst)) # TypeError: sum_of_five_nums() missing 4 required positional arguments: 'b', 'c', 'd', and 'e'"
   ]
  },
  {
   "cell_type": "code",
   "execution_count": 53,
   "metadata": {},
   "outputs": [
    {
     "name": "stdout",
     "output_type": "stream",
     "text": [
      "15\n"
     ]
    }
   ],
   "source": [
    "def sum_of_five_nums(a, b, c, d, e):\n",
    "    return a + b + c + d + e\n",
    "\n",
    "lst = [1,2,3,4,5]\n",
    "print(sum_of_five_nums(*lst))  # 15"
   ]
  },
  {
   "cell_type": "code",
   "execution_count": 54,
   "metadata": {},
   "outputs": [
    {
     "name": "stdout",
     "output_type": "stream",
     "text": [
      "[2, 3, 4, 5, 6]\n",
      "range(2, 7)\n"
     ]
    }
   ],
   "source": [
    "numbers = range(2, 7)  # normal call with separate arguments\n",
    "print(list(numbers)) # [2, 3, 4, 5, 6]\n",
    "args = [2, 7]\n",
    "numbers = range(*args)  # call with arguments unpacked from a list\n",
    "print(numbers)      # [2, 3, 4, 5,6]"
   ]
  },
  {
   "cell_type": "code",
   "execution_count": 55,
   "metadata": {},
   "outputs": [
    {
     "name": "stdout",
     "output_type": "stream",
     "text": [
      "Finland Sweden Norway ['Denmark', 'Iceland']\n",
      "1 [2, 3, 4, 5, 6] 7\n"
     ]
    }
   ],
   "source": [
    "countries = ['Finland', 'Sweden', 'Norway', 'Denmark', 'Iceland']\n",
    "fin, sw, nor, *rest = countries\n",
    "print(fin, sw, nor, rest)   # Finland Sweden Norway ['Denmark', 'Iceland']\n",
    "numbers = [1, 2, 3, 4, 5, 6, 7]\n",
    "one, *middle, last = numbers\n",
    "print(one, middle, last)      #  1 [2, 3, 4, 5, 6] 7"
   ]
  },
  {
   "cell_type": "code",
   "execution_count": 56,
   "metadata": {},
   "outputs": [
    {
     "name": "stdout",
     "output_type": "stream",
     "text": [
      "{name} lives in {country}, {city}. He is {age} year old.\n"
     ]
    }
   ],
   "source": [
    "#Unpacking dictionaries\n",
    "\n",
    "def unpacking_person_info(name, country, city, age):\n",
    "    return '{name} lives in {country}, {city}. He is {age} year old.'\n",
    "dct = {'name':'Asabeneh', 'country':'Finland', 'city':'Helsinki', 'age':250}\n",
    "print(unpacking_person_info(**dct)) # Asabeneh lives in Finland, Helsinki. He is 250 years old."
   ]
  },
  {
   "cell_type": "code",
   "execution_count": 58,
   "metadata": {},
   "outputs": [
    {
     "name": "stdout",
     "output_type": "stream",
     "text": [
      "6\n",
      "28\n"
     ]
    }
   ],
   "source": [
    "#Packing- this method is used to pass any number of arguments \n",
    "def sum_all(*args):\n",
    "    s = 0\n",
    "    for i in args:\n",
    "        s += i\n",
    "    return s\n",
    "print(sum_all(1, 2, 3))             # 6\n",
    "print(sum_all(1, 2, 3, 4, 5, 6, 7)) # 28"
   ]
  },
  {
   "cell_type": "code",
   "execution_count": 59,
   "metadata": {},
   "outputs": [
    {
     "name": "stdout",
     "output_type": "stream",
     "text": [
      "{key} = {kwargs[key]}\n",
      "{key} = {kwargs[key]}\n",
      "{key} = {kwargs[key]}\n",
      "{key} = {kwargs[key]}\n",
      "{'name': 'Asabeneh', 'country': 'Finland', 'city': 'Helsinki', 'age': 250}\n"
     ]
    }
   ],
   "source": [
    "def packing_person_info(**kwargs):\n",
    "    # check the type of kwargs and it is a dict type\n",
    "    # print(type(kwargs))\n",
    "\t# Printing dictionary items\n",
    "    for key in kwargs:\n",
    "        print(\"{key} = {kwargs[key]}\")\n",
    "    return kwargs\n",
    "\n",
    "print(packing_person_info(name=\"Asabeneh\",\n",
    "      country=\"Finland\", city=\"Helsinki\", age=250))"
   ]
  },
  {
   "cell_type": "code",
   "execution_count": 62,
   "metadata": {},
   "outputs": [
    {
     "name": "stdout",
     "output_type": "stream",
     "text": [
      "[0, 1, 2, 3, 4, 5, 6, 7]\n",
      "['Finland', 'Sweden', 'Norway', 'Denmark', 'Iceland']\n"
     ]
    }
   ],
   "source": [
    "#Spreading in Python\n",
    "lst_one = [1, 2, 3]\n",
    "lst_two = [4, 5, 6,7]\n",
    "lst = [0, *lst_one, *lst_two]\n",
    "print(lst)          # [0, 1, 2, 3, 4, 5, 6, 7]\n",
    "country_lst_one = ['Finland', 'Sweden', 'Norway']\n",
    "country_lst_two = ['Denmark', 'Iceland']\n",
    "nordic_countries = [*country_lst_one, *country_lst_two]\n",
    "print(nordic_countries)        "
   ]
  },
  {
   "cell_type": "code",
   "execution_count": 63,
   "metadata": {},
   "outputs": [
    {
     "name": "stdout",
     "output_type": "stream",
     "text": [
      "hi\n",
      "The country {i} has been found at index {index}\n",
      "hi\n",
      "hi\n",
      "hi\n",
      "hi\n"
     ]
    }
   ],
   "source": [
    "#enumerate\n",
    "for index, i in enumerate(countries):\n",
    "    print('hi')\n",
    "    if i == 'Finland':\n",
    "        print('The country {i} has been found at index {index}')"
   ]
  },
  {
   "cell_type": "code",
   "execution_count": 64,
   "metadata": {},
   "outputs": [
    {
     "name": "stdout",
     "output_type": "stream",
     "text": [
      "[{'fruit': 'banana', 'veg': 'Tomato'}, {'fruit': 'orange', 'veg': 'Potato'}, {'fruit': 'mango', 'veg': 'Cabbage'}, {'fruit': 'lemon', 'veg': 'Onion'}]\n"
     ]
    }
   ],
   "source": [
    "#zip\n",
    "fruits = ['banana', 'orange', 'mango', 'lemon']                    \n",
    "vegetables = ['Tomato', 'Potato', 'Cabbage','Onion', 'Carrot']\n",
    "fruits_and_veges = []\n",
    "for f, v in zip(fruits, vegetables):\n",
    "    fruits_and_veges.append({'fruit':f, 'veg':v})\n",
    "\n",
    "print(fruits_and_veges)"
   ]
  },
  {
   "cell_type": "code",
   "execution_count": 67,
   "metadata": {},
   "outputs": [
    {
     "name": "stdout",
     "output_type": "stream",
     "text": [
      "<re.Match object; span=(0, 15), match='I love to teach'>\n",
      "(0, 15)\n",
      "0 15\n",
      "I love to teach\n"
     ]
    }
   ],
   "source": [
    "# Day -18 Regular Expressions\n",
    "\n",
    "import re\n",
    "\n",
    "txt = 'I love to teach python and javaScript'\n",
    "# It returns an object with span, and match\n",
    "match = re.match('I love to teach', txt, re.I)\n",
    "print(match)  # <re.Match object; span=(0, 15), match='I love to teach'>\n",
    "# We can get the starting and ending position of the match as tuple using span\n",
    "span = match.span()\n",
    "print(span)     # (0, 15)\n",
    "# Lets find the start and stop position from the span\n",
    "start, end = span\n",
    "print(start, end)  # 0, 15\n",
    "substring = txt[start:end]\n",
    "print(substring)       # I love to teach\n"
   ]
  },
  {
   "cell_type": "code",
   "execution_count": 69,
   "metadata": {},
   "outputs": [
    {
     "name": "stdout",
     "output_type": "stream",
     "text": [
      "<re.Match object; span=(100, 105), match='first'>\n",
      "(100, 105)\n",
      "100 105\n",
      "first\n"
     ]
    }
   ],
   "source": [
    "txt = '''Python is the most beautiful language that a human being has ever created.\n",
    "I recommend python for a first programming language'''\n",
    "\n",
    "# It returns an object with span and match\n",
    "match = re.search('first', txt, re.I)\n",
    "print(match)  # <re.Match object; span=(100, 105), match='first'>\n",
    "# We can get the starting and ending position of the match as tuple using span\n",
    "span = match.span()\n",
    "print(span)     # (100, 105)\n",
    "# Lets find the start and stop position from the span\n",
    "start, end = span\n",
    "print(start, end)  # 100 105\n",
    "substring = txt[start:end]\n",
    "print(substring)       # first"
   ]
  },
  {
   "cell_type": "code",
   "execution_count": 70,
   "metadata": {},
   "outputs": [
    {
     "name": "stdout",
     "output_type": "stream",
     "text": [
      "['apple']\n",
      "['Apple', 'apple']\n",
      "['Apple', 'apple']\n"
     ]
    }
   ],
   "source": [
    "regex_pattern = r'apple'\n",
    "txt = 'Apple and banana are fruits. An old cliche says an apple a day a doctor way has been replaced by a banana a day keeps the doctor far far away. '\n",
    "matches = re.findall(regex_pattern, txt)\n",
    "print(matches)  # ['apple']\n",
    "\n",
    "# To make case insensitive adding flag '\n",
    "matches = re.findall(regex_pattern, txt, re.I)\n",
    "print(matches)  # ['Apple', 'apple']\n",
    "# or we can use a set of characters method\n",
    "regex_pattern = r'[Aa]pple'  # this mean the first letter could be Apple or apple\n",
    "matches = re.findall(regex_pattern, txt)\n",
    "print(matches)  # ['Apple', 'apple']"
   ]
  },
  {
   "cell_type": "code",
   "execution_count": 71,
   "metadata": {},
   "outputs": [
    {
     "name": "stdout",
     "output_type": "stream",
     "text": [
      "['Apple', 'apple']\n"
     ]
    }
   ],
   "source": [
    "regex_pattern = r'[Aa]pple' # this square bracket mean either A or a\n",
    "txt = 'Apple and banana are fruits. An old cliche says an apple a day a doctor way has been replaced by a banana a day keeps the doctor far far away. '\n",
    "matches = re.findall(regex_pattern, txt)\n",
    "print(matches)  # ['Apple', 'apple']"
   ]
  },
  {
   "cell_type": "code",
   "execution_count": 72,
   "metadata": {},
   "outputs": [
    {
     "name": "stdout",
     "output_type": "stream",
     "text": [
      "['6', '2', '0', '1', '9']\n"
     ]
    }
   ],
   "source": [
    "regex_pattern = r'\\d'  # d is a special character which means digits\n",
    "txt = 'This regular expression example was made on December 6,  2019.'\n",
    "matches = re.findall(regex_pattern, txt)\n",
    "print(matches)  # ['6', '2', '0', '1', '9'], this is not what we want"
   ]
  },
  {
   "cell_type": "code",
   "execution_count": 73,
   "metadata": {},
   "outputs": [
    {
     "name": "stdout",
     "output_type": "stream",
     "text": [
      "['an', 'an', 'an', 'a ', 'ar']\n",
      "['and banana are fruits']\n"
     ]
    }
   ],
   "source": [
    "regex_pattern = r'[a].'  # this square bracket means a and . means any character except new line\n",
    "txt = '''Apple and banana are fruits'''\n",
    "matches = re.findall(regex_pattern, txt)\n",
    "print(matches)  # ['an', 'an', 'an', 'a ', 'ar']\n",
    "\n",
    "regex_pattern = r'[a].+'  # . any character, + any character one or more times \n",
    "matches = re.findall(regex_pattern, txt)\n",
    "print(matches)  # ['and banana are fruits']"
   ]
  },
  {
   "cell_type": "code",
   "execution_count": 74,
   "metadata": {},
   "outputs": [
    {
     "name": "stdout",
     "output_type": "stream",
     "text": [
      "['and banana are fruits']\n"
     ]
    }
   ],
   "source": [
    "regex_pattern = r'[a].*'  # . any character, * any character zero or more times \n",
    "txt = '''Apple and banana are fruits'''\n",
    "matches = re.findall(regex_pattern, txt)\n",
    "print(matches)  # ['and banana are fruits']"
   ]
  },
  {
   "cell_type": "code",
   "execution_count": 76,
   "metadata": {},
   "outputs": [
    {
     "name": "stdout",
     "output_type": "stream",
     "text": [
      "['e-mail', 'email', 'Email', 'E-mail']\n"
     ]
    }
   ],
   "source": [
    "txt = '''I am not sure if there is a convention how to write the word e-mail.\n",
    "Some people write it email others may write it as Email or E-mail.'''\n",
    "regex_pattern = r'[Ee]-?mail'  # ? means here that '-' is optional\n",
    "matches = re.findall(regex_pattern, txt)\n",
    "print(matches)  # ['e-mail', 'email', 'Email', 'E-mail']"
   ]
  },
  {
   "cell_type": "code",
   "execution_count": 77,
   "metadata": {},
   "outputs": [
    {
     "name": "stdout",
     "output_type": "stream",
     "text": [
      "['2019']\n",
      "[]\n"
     ]
    }
   ],
   "source": [
    "txt = 'This regular expression example was made on December 6,  2019.'\n",
    "regex_pattern = r'\\d{4}'  # exactly four times\n",
    "matches = re.findall(regex_pattern, txt)\n",
    "print(matches)  # ['2019']\n",
    "\n",
    "txt = 'This regular expression example was made on December 6,  2019.'\n",
    "regex_pattern = r'\\d{1, 4}'   # 1 to 4\n",
    "matches = re.findall(regex_pattern, txt)\n",
    "print(matches)  # ['6', '2019']"
   ]
  },
  {
   "cell_type": "code",
   "execution_count": 78,
   "metadata": {},
   "outputs": [
    {
     "name": "stdout",
     "output_type": "stream",
     "text": [
      "['This']\n"
     ]
    }
   ],
   "source": [
    "txt = 'This regular expression example was made on December 6,  2019.'\n",
    "regex_pattern = r'^This'  # ^ means starts with\n",
    "matches = re.findall(regex_pattern, txt)\n",
    "print(matches)  # ['This']"
   ]
  },
  {
   "cell_type": "code",
   "execution_count": 79,
   "metadata": {},
   "outputs": [
    {
     "name": "stdout",
     "output_type": "stream",
     "text": [
      "['6,', '2019.']\n"
     ]
    }
   ],
   "source": [
    "txt = 'This regular expression example was made on December 6,  2019.'\n",
    "regex_pattern = r'[^A-Za-z ]+'  # ^ in set character means negation, not A to Z, not a to z, no space\n",
    "matches = re.findall(regex_pattern, txt)\n",
    "print(matches)  # ['6,', '2019.']"
   ]
  },
  {
   "cell_type": "code",
   "execution_count": 83,
   "metadata": {},
   "outputs": [
    {
     "name": "stdout",
     "output_type": "stream",
     "text": [
      "<class 'str'>\n",
      "{\n",
      "    \"name\": \"Asabeneh\",\n",
      "    \"country\": \"Finland\",\n",
      "    \"city\": \"Helsinki\",\n",
      "    \"skills\": [\n",
      "        \"JavaScrip\",\n",
      "        \"React\",\n",
      "        \"Python\"\n",
      "    ]\n",
      "}\n"
     ]
    }
   ],
   "source": [
    "import json\n",
    "# python dictionary\n",
    "person = {\n",
    "    \"name\": \"Asabeneh\",\n",
    "    \"country\": \"Finland\",\n",
    "    \"city\": \"Helsinki\",\n",
    "    \"skills\": [\"JavaScrip\", \"React\", \"Python\"]\n",
    "}\n",
    "# let's convert it to  json\n",
    "person_json = json.dumps(person, indent=4) # indent could be 2, 4, 8. It beautify the json\n",
    "print(type(person_json))\n",
    "print(person_json)"
   ]
  },
  {
   "cell_type": "code",
   "execution_count": 85,
   "metadata": {},
   "outputs": [],
   "source": [
    "# dictionary\n",
    "person_dct= {\n",
    "    \"name\":\"Asabeneh\",\n",
    "    \"country\":\"Finland\",\n",
    "    \"city\":\"Helsinki\",\n",
    "    \"skills\":[\"JavaScrip\", \"React\",\"Python\"]\n",
    "}\n",
    "# JSON: A string form a dictionary\n",
    "person_json = \"{'name': 'Asabeneh', 'country': 'Finland', 'city': 'Helsinki', 'skills': ['JavaScrip', 'React', 'Python']}\"\n",
    "\n",
    "# we use three quotes and make it multiple line to make it more readable\n",
    "person_json = '''{\n",
    "    \"name\":\"Asabeneh\",\n",
    "    \"country\":\"Finland\",\n",
    "    \"city\":\"Helsinki\",\n",
    "    \"skills\":[\"JavaScrip\", \"React\",\"Python\"]\n",
    "}'''"
   ]
  },
  {
   "cell_type": "code",
   "execution_count": 86,
   "metadata": {},
   "outputs": [
    {
     "name": "stdout",
     "output_type": "stream",
     "text": [
      "{'name': 'Asabeneh', 'country': 'Finland', 'city': 'Helsinki', 'skills': ['JavaScrip', 'React', 'Python']}\n",
      "Asabeneh\n"
     ]
    }
   ],
   "source": [
    "import json\n",
    "# JSON\n",
    "person_json = '''{\n",
    "    \"name\": \"Asabeneh\",\n",
    "    \"country\": \"Finland\",\n",
    "    \"city\": \"Helsinki\",\n",
    "    \"skills\": [\"JavaScrip\", \"React\", \"Python\"]\n",
    "}'''\n",
    "# let's change JSON to dictionary\n",
    "person_dct = json.loads(person_json)\n",
    "print(person_dct)\n",
    "print(person_dct['name'])"
   ]
  },
  {
   "cell_type": "code",
   "execution_count": 89,
   "metadata": {},
   "outputs": [],
   "source": [
    "# Day 21 -classes and objects\n",
    "\n",
    "class Person:\n",
    "  pass"
   ]
  },
  {
   "cell_type": "code",
   "execution_count": 90,
   "metadata": {},
   "outputs": [
    {
     "name": "stdout",
     "output_type": "stream",
     "text": [
      "<__main__.Person object at 0x000002BACC82E8C8>\n"
     ]
    }
   ],
   "source": [
    "p = Person()\n",
    "print(p)"
   ]
  },
  {
   "cell_type": "code",
   "execution_count": 91,
   "metadata": {},
   "outputs": [
    {
     "name": "stdout",
     "output_type": "stream",
     "text": [
      "Asabeneh\n",
      "<__main__.Person object at 0x000002BACC8342C8>\n"
     ]
    }
   ],
   "source": [
    "class Person:\n",
    "      def __init__ (self, name):\n",
    "          self.name =name\n",
    "\n",
    "p = Person('Asabeneh')\n",
    "print(p.name)\n",
    "print(p)"
   ]
  },
  {
   "cell_type": "code",
   "execution_count": 92,
   "metadata": {},
   "outputs": [
    {
     "name": "stdout",
     "output_type": "stream",
     "text": [
      "Asabeneh\n",
      "Yetayeh\n",
      "250\n",
      "Finland\n",
      "Helsinki\n"
     ]
    }
   ],
   "source": [
    "class Person:\n",
    "      def __init__(self, firstname, lastname, age, country, city):\n",
    "          self.firstname = firstname\n",
    "          self.lastname = lastname\n",
    "          self.age = age\n",
    "          self.country = country\n",
    "          self.city = city\n",
    "\n",
    "\n",
    "p = Person('Asabeneh', 'Yetayeh', 250, 'Finland', 'Helsinki')\n",
    "print(p.firstname)\n",
    "print(p.lastname)\n",
    "print(p.age)\n",
    "print(p.country)\n",
    "print(p.city)"
   ]
  },
  {
   "cell_type": "code",
   "execution_count": 93,
   "metadata": {},
   "outputs": [
    {
     "name": "stdout",
     "output_type": "stream",
     "text": [
      "Asabeneh Yetayeh is 250 year old. He lives in Helsinki, Finland\n"
     ]
    }
   ],
   "source": [
    "class Person:\n",
    "      def __init__(self, firstname, lastname, age, country, city):\n",
    "          self.firstname = firstname\n",
    "          self.lastname = lastname\n",
    "          self.age = age\n",
    "          self.country = country\n",
    "          self.city = city\n",
    "\n",
    "      def person_info(self):\n",
    "        return f'{self.firstname} {self.lastname} is {self.age} year old. He lives in {self.city}, {self.country}'\n",
    "\n",
    "\n",
    "p = Person('Asabeneh', 'Yetayeh', 250, 'Finland', 'Helsinki')\n",
    "print(p.person_info())"
   ]
  },
  {
   "cell_type": "code",
   "execution_count": 94,
   "metadata": {},
   "outputs": [
    {
     "name": "stdout",
     "output_type": "stream",
     "text": [
      "Asabeneh Yetayeh is 250 year old. He lives in Helsinki, Finland.\n",
      "John Doe is 30 year old. He lives in Noman city, Nomanland.\n"
     ]
    }
   ],
   "source": [
    "class Person:\n",
    "      def __init__(self, firstname='Asabeneh', lastname='Yetayeh', age=250, country='Finland', city='Helsinki'):\n",
    "          self.firstname = firstname\n",
    "          self.lastname = lastname\n",
    "          self.age = age\n",
    "          self.country = country\n",
    "          self.city = city\n",
    "\n",
    "      def person_info(self):\n",
    "        return f'{self.firstname} {self.lastname} is {self.age} year old. He lives in {self.city}, {self.country}.'\n",
    "\n",
    "p1 = Person()\n",
    "print(p1.person_info())\n",
    "p2 = Person('John', 'Doe', 30, 'Nomanland', 'Noman city')\n",
    "print(p2.person_info())"
   ]
  },
  {
   "cell_type": "code",
   "execution_count": 95,
   "metadata": {},
   "outputs": [
    {
     "name": "stdout",
     "output_type": "stream",
     "text": [
      "Asabeneh Yetayeh is 250 year old. He lives in Helsinki, Finland.\n",
      "John Doe is 30 year old. He lives in Noman city, Nomanland.\n",
      "['HTML', 'CSS', 'JavaScript']\n",
      "[]\n"
     ]
    }
   ],
   "source": [
    "class Person:\n",
    "      def __init__(self, firstname='Asabeneh', lastname='Yetayeh', age=250, country='Finland', city='Helsinki'):\n",
    "          self.firstname = firstname\n",
    "          self.lastname = lastname\n",
    "          self.age = age\n",
    "          self.country = country\n",
    "          self.city = city\n",
    "          self.skills = []\n",
    "\n",
    "      def person_info(self):\n",
    "        return f'{self.firstname} {self.lastname} is {self.age} year old. He lives in {self.city}, {self.country}.'\n",
    "      def add_skill(self, skill):\n",
    "          self.skills.append(skill)\n",
    "\n",
    "p1 = Person()\n",
    "print(p1.person_info())\n",
    "p1.add_skill('HTML')\n",
    "p1.add_skill('CSS')\n",
    "p1.add_skill('JavaScript')\n",
    "p2 = Person('John', 'Doe', 30, 'Nomanland', 'Noman city')\n",
    "print(p2.person_info())\n",
    "print(p1.skills)\n",
    "print(p2.skills)"
   ]
  },
  {
   "cell_type": "code",
   "execution_count": 96,
   "metadata": {},
   "outputs": [
    {
     "name": "stdout",
     "output_type": "stream",
     "text": [
      "Eyob Yetayeh is 30 year old. He lives in Helsinki, Finland.\n",
      "['JavaScript', 'React', 'Python']\n",
      "Lidiya Teklemariam is 28 year old. He lives in Espoo, Finland.\n",
      "['Organizing', 'Marketing', 'Digital Marketing']\n"
     ]
    }
   ],
   "source": [
    "class Student(Person):\n",
    "    pass\n",
    "\n",
    "\n",
    "s1 = Student('Eyob', 'Yetayeh', 30, 'Finland', 'Helsinki')\n",
    "s2 = Student('Lidiya', 'Teklemariam', 28, 'Finland', 'Espoo')\n",
    "print(s1.person_info())\n",
    "s1.add_skill('JavaScript')\n",
    "s1.add_skill('React')\n",
    "s1.add_skill('Python')\n",
    "print(s1.skills)\n",
    "\n",
    "print(s2.person_info())\n",
    "s2.add_skill('Organizing')\n",
    "s2.add_skill('Marketing')\n",
    "s2.add_skill('Digital Marketing')\n",
    "print(s2.skills)"
   ]
  },
  {
   "cell_type": "code",
   "execution_count": 97,
   "metadata": {},
   "outputs": [
    {
     "name": "stdout",
     "output_type": "stream",
     "text": [
      "Eyob Yetayeh is 30 year old. He lives in Helsinki, Finland.\n",
      "['JavaScript', 'React', 'Python']\n",
      "Lidiya Teklemariam is 28 year old. She lives in Espoo, Finland.\n",
      "['Organizing', 'Marketing', 'Digital Marketing']\n"
     ]
    }
   ],
   "source": [
    "# overriding parent method\n",
    "class Student(Person):\n",
    "    def __init__ (self, firstname='Asabeneh', lastname='Yetayeh',age=250, country='Finland', city='Helsinki', gender='male'):\n",
    "        self.gender = gender\n",
    "        super().__init__(firstname, lastname,age, country, city)\n",
    "    def person_info(self):\n",
    "        gender = 'He' if self.gender =='male' else 'She'\n",
    "        return f'{self.firstname} {self.lastname} is {self.age} year old. {gender} lives in {self.city}, {self.country}.'\n",
    "\n",
    "s1 = Student('Eyob', 'Yetayeh', 30, 'Finland', 'Helsinki','male')\n",
    "s2 = Student('Lidiya', 'Teklemariam', 28, 'Finland', 'Espoo', 'female')\n",
    "print(s1.person_info())\n",
    "s1.add_skill('JavaScript')\n",
    "s1.add_skill('React')\n",
    "s1.add_skill('Python')\n",
    "print(s1.skills)\n",
    "\n",
    "print(s2.person_info())\n",
    "s2.add_skill('Organizing')\n",
    "s2.add_skill('Marketing')\n",
    "s2.add_skill('Digital Marketing')\n",
    "print(s2.skills)\n"
   ]
  },
  {
   "cell_type": "code",
   "execution_count": null,
   "metadata": {},
   "outputs": [],
   "source": []
  }
 ],
 "metadata": {
  "kernelspec": {
   "display_name": "Python 3",
   "language": "python",
   "name": "python3"
  },
  "language_info": {
   "codemirror_mode": {
    "name": "ipython",
    "version": 3
   },
   "file_extension": ".py",
   "mimetype": "text/x-python",
   "name": "python",
   "nbconvert_exporter": "python",
   "pygments_lexer": "ipython3",
   "version": "3.7.4"
  }
 },
 "nbformat": 4,
 "nbformat_minor": 4
}
